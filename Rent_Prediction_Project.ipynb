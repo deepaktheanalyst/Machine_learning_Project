{
 "cells": [
  {
   "cell_type": "code",
   "execution_count": 1,
   "id": "b1f36c2b-a801-4bde-8bfa-d5c2104f2a5f",
   "metadata": {},
   "outputs": [],
   "source": [
    "import pandas as pd\n",
    "import numpy as np\n",
    "import matplotlib.pyplot as plt\n",
    "import seaborn as sns \n",
    "%matplotlib inline\n",
    "import warnings \n",
    "warnings.filterwarnings('ignore')"
   ]
  },
  {
   "cell_type": "code",
   "execution_count": 2,
   "id": "81d7b8e9-f7d3-4e07-bec7-d93a562a3eea",
   "metadata": {},
   "outputs": [],
   "source": [
    "delhi_data = pd.read_csv('Delhi_data.csv')\n",
    "mum_data = pd.read_csv('mumbai_data.csv')\n",
    "ahm_data = pd.read_csv('ahm_data.csv')\n",
    "chn_data = pd.read_csv('chennai_data.csv')\n",
    "gur_data = pd.read_csv('gurgaon_data.csv')\n",
    "kol_data = pd.read_csv('kolkata_data.csv')\n",
    "pune_data = pd.read_csv('pune_data.csv')\n",
    "hyd_data = pd.read_csv('hyd_data.csv')"
   ]
  },
  {
   "cell_type": "code",
   "execution_count": 3,
   "id": "7394b685-8868-4837-a68e-cfc5e7f8083d",
   "metadata": {},
   "outputs": [
    {
     "data": {
      "text/html": [
       "<div>\n",
       "<style scoped>\n",
       "    .dataframe tbody tr th:only-of-type {\n",
       "        vertical-align: middle;\n",
       "    }\n",
       "\n",
       "    .dataframe tbody tr th {\n",
       "        vertical-align: top;\n",
       "    }\n",
       "\n",
       "    .dataframe thead th {\n",
       "        text-align: right;\n",
       "    }\n",
       "</style>\n",
       "<table border=\"1\" class=\"dataframe\">\n",
       "  <thead>\n",
       "    <tr style=\"text-align: right;\">\n",
       "      <th></th>\n",
       "      <th>price</th>\n",
       "      <th>Furnishing</th>\n",
       "      <th>Bathroom</th>\n",
       "      <th>Balcony</th>\n",
       "      <th>locality</th>\n",
       "      <th>bhk</th>\n",
       "      <th>city</th>\n",
       "    </tr>\n",
       "  </thead>\n",
       "  <tbody>\n",
       "    <tr>\n",
       "      <th>0</th>\n",
       "      <td>170000</td>\n",
       "      <td>Semi-Furnished</td>\n",
       "      <td>5</td>\n",
       "      <td>3</td>\n",
       "      <td>Maharani Bagh, New Friends Colony,</td>\n",
       "      <td>4 BHK Flat</td>\n",
       "      <td>New Delhi</td>\n",
       "    </tr>\n",
       "    <tr>\n",
       "      <th>1</th>\n",
       "      <td>180000</td>\n",
       "      <td>Unfurnished</td>\n",
       "      <td>4</td>\n",
       "      <td>2</td>\n",
       "      <td>Greater Kailash 1,</td>\n",
       "      <td>4 BHK Flat</td>\n",
       "      <td>New Delhi</td>\n",
       "    </tr>\n",
       "  </tbody>\n",
       "</table>\n",
       "</div>"
      ],
      "text/plain": [
       "    price      Furnishing Bathroom Balcony  \\\n",
       "0  170000  Semi-Furnished        5       3   \n",
       "1  180000     Unfurnished        4       2   \n",
       "\n",
       "                               locality            bhk       city  \n",
       "0   Maharani Bagh, New Friends Colony,   4 BHK Flat     New Delhi  \n",
       "1                   Greater Kailash 1,   4 BHK Flat     New Delhi  "
      ]
     },
     "execution_count": 3,
     "metadata": {},
     "output_type": "execute_result"
    }
   ],
   "source": [
    "delhi_data.head(2)"
   ]
  },
  {
   "cell_type": "code",
   "execution_count": 4,
   "id": "95934068-3ca8-48fc-b96f-0a682063759f",
   "metadata": {},
   "outputs": [],
   "source": [
    "delhi_data.rename(columns={'city':'City'},inplace=True)"
   ]
  },
  {
   "cell_type": "code",
   "execution_count": 5,
   "id": "9228fd5a-90f1-4506-a4de-1de05484af49",
   "metadata": {},
   "outputs": [
    {
     "data": {
      "text/html": [
       "<div>\n",
       "<style scoped>\n",
       "    .dataframe tbody tr th:only-of-type {\n",
       "        vertical-align: middle;\n",
       "    }\n",
       "\n",
       "    .dataframe tbody tr th {\n",
       "        vertical-align: top;\n",
       "    }\n",
       "\n",
       "    .dataframe thead th {\n",
       "        text-align: right;\n",
       "    }\n",
       "</style>\n",
       "<table border=\"1\" class=\"dataframe\">\n",
       "  <thead>\n",
       "    <tr style=\"text-align: right;\">\n",
       "      <th></th>\n",
       "      <th>Unnamed: 0</th>\n",
       "      <th>price</th>\n",
       "      <th>Furnishing</th>\n",
       "      <th>Bathroom</th>\n",
       "      <th>Balcony</th>\n",
       "      <th>bhk</th>\n",
       "      <th>locality</th>\n",
       "      <th>City</th>\n",
       "    </tr>\n",
       "  </thead>\n",
       "  <tbody>\n",
       "    <tr>\n",
       "      <th>0</th>\n",
       "      <td>0</td>\n",
       "      <td>350000</td>\n",
       "      <td>Semi-Furnished</td>\n",
       "      <td>3.0</td>\n",
       "      <td>3</td>\n",
       "      <td>3 BHK Flat</td>\n",
       "      <td>Lodha World One, Worli,</td>\n",
       "      <td>Mumbai</td>\n",
       "    </tr>\n",
       "    <tr>\n",
       "      <th>1</th>\n",
       "      <td>1</td>\n",
       "      <td>41,000</td>\n",
       "      <td>Semi-Furnished</td>\n",
       "      <td>2.0</td>\n",
       "      <td>0</td>\n",
       "      <td>1 BHK Flat</td>\n",
       "      <td>Piramal Revanta, Mulund West,</td>\n",
       "      <td>Mumbai</td>\n",
       "    </tr>\n",
       "  </tbody>\n",
       "</table>\n",
       "</div>"
      ],
      "text/plain": [
       "   Unnamed: 0   price      Furnishing  Bathroom Balcony         bhk  \\\n",
       "0           0  350000  Semi-Furnished       3.0       3  3 BHK Flat   \n",
       "1           1  41,000  Semi-Furnished       2.0       0  1 BHK Flat   \n",
       "\n",
       "                          locality    City  \n",
       "0         Lodha World One, Worli,   Mumbai  \n",
       "1   Piramal Revanta, Mulund West,   Mumbai  "
      ]
     },
     "execution_count": 5,
     "metadata": {},
     "output_type": "execute_result"
    }
   ],
   "source": [
    "mum_data.head(2)"
   ]
  },
  {
   "cell_type": "code",
   "execution_count": 6,
   "id": "f1140089-c61d-467e-b387-3c6bc2df9003",
   "metadata": {},
   "outputs": [],
   "source": [
    "def change_type(df, column_name):\n",
    "    # Dropping unncessary column\n",
    "    df.drop('Unnamed: 0',inplace=True,axis=1)\n",
    "    \n",
    "    # Remove commas from the specified column\n",
    "    df[column_name] = df[column_name].str.replace(',', '')\n",
    "\n",
    "    # Convert the values in the specified column to integers\n",
    "    df[column_name] = df[column_name].astype('int')\n",
    "\n",
    "    return df"
   ]
  },
  {
   "cell_type": "code",
   "execution_count": 7,
   "id": "edbfdefb-9175-4df2-9628-e9828e110eea",
   "metadata": {},
   "outputs": [],
   "source": [
    "mum_data = change_type(mum_data,'price')"
   ]
  },
  {
   "cell_type": "code",
   "execution_count": 8,
   "id": "2392bbdb-8725-48ac-a419-f273b709df91",
   "metadata": {},
   "outputs": [],
   "source": [
    "drop_index = ahm_data[ahm_data['price']=='Call for Price'].index"
   ]
  },
  {
   "cell_type": "code",
   "execution_count": 9,
   "id": "b4e3a185-c881-44bc-958e-4c4db669461a",
   "metadata": {},
   "outputs": [],
   "source": [
    "ahm_data.drop(drop_index,axis=0,inplace=True)"
   ]
  },
  {
   "cell_type": "code",
   "execution_count": 10,
   "id": "8fced7eb-1bd0-4670-bd90-61c786f92886",
   "metadata": {},
   "outputs": [],
   "source": [
    "ahm_data = change_type(ahm_data,'price')"
   ]
  },
  {
   "cell_type": "code",
   "execution_count": 11,
   "id": "99ec0588-a3ff-40e9-9947-bd4eb208ed58",
   "metadata": {},
   "outputs": [],
   "source": [
    "chn_data = change_type(chn_data,'price')"
   ]
  },
  {
   "cell_type": "code",
   "execution_count": 12,
   "id": "e8bf5b7d-a55e-4974-a376-69e488534feb",
   "metadata": {},
   "outputs": [],
   "source": [
    "gur_data = change_type(gur_data,'price')"
   ]
  },
  {
   "cell_type": "code",
   "execution_count": 13,
   "id": "367348af-d0ba-4e06-873d-88e38383963b",
   "metadata": {},
   "outputs": [],
   "source": [
    "kol_data = change_type(kol_data,'price')"
   ]
  },
  {
   "cell_type": "code",
   "execution_count": 14,
   "id": "f19a7aff-d887-4c40-b256-334623e04a32",
   "metadata": {},
   "outputs": [],
   "source": [
    "pune_data = change_type(pune_data,'price')"
   ]
  },
  {
   "cell_type": "code",
   "execution_count": 15,
   "id": "c8834418-b906-4abd-ba4b-eeb7d18ff83f",
   "metadata": {},
   "outputs": [],
   "source": [
    "hyd_data = change_type(hyd_data,'price')"
   ]
  },
  {
   "cell_type": "code",
   "execution_count": 16,
   "id": "fb4a1c95-ce45-4a58-a5a6-00a82226faf7",
   "metadata": {},
   "outputs": [
    {
     "name": "stdout",
     "output_type": "stream",
     "text": [
      "<class 'pandas.core.frame.DataFrame'>\n",
      "RangeIndex: 1492 entries, 0 to 1491\n",
      "Data columns (total 7 columns):\n",
      " #   Column      Non-Null Count  Dtype \n",
      "---  ------      --------------  ----- \n",
      " 0   price       1492 non-null   int64 \n",
      " 1   Furnishing  1492 non-null   object\n",
      " 2   Bathroom    1492 non-null   object\n",
      " 3   Balcony     1492 non-null   object\n",
      " 4   locality    1492 non-null   object\n",
      " 5   bhk         1492 non-null   object\n",
      " 6   City        1492 non-null   object\n",
      "dtypes: int64(1), object(6)\n",
      "memory usage: 81.7+ KB\n",
      "None\n",
      "########################################\n",
      "<class 'pandas.core.frame.DataFrame'>\n",
      "RangeIndex: 1496 entries, 0 to 1495\n",
      "Data columns (total 7 columns):\n",
      " #   Column      Non-Null Count  Dtype  \n",
      "---  ------      --------------  -----  \n",
      " 0   price       1496 non-null   int32  \n",
      " 1   Furnishing  1496 non-null   object \n",
      " 2   Bathroom    1496 non-null   float64\n",
      " 3   Balcony     1496 non-null   object \n",
      " 4   bhk         1496 non-null   object \n",
      " 5   locality    1496 non-null   object \n",
      " 6   City        1496 non-null   object \n",
      "dtypes: float64(1), int32(1), object(5)\n",
      "memory usage: 76.1+ KB\n",
      "None\n",
      "########################################\n",
      "<class 'pandas.core.frame.DataFrame'>\n",
      "RangeIndex: 1311 entries, 0 to 1310\n",
      "Data columns (total 7 columns):\n",
      " #   Column      Non-Null Count  Dtype \n",
      "---  ------      --------------  ----- \n",
      " 0   price       1311 non-null   int32 \n",
      " 1   Furnishing  1311 non-null   object\n",
      " 2   Bathroom    1311 non-null   object\n",
      " 3   Balcony     1311 non-null   int64 \n",
      " 4   bhk         1311 non-null   object\n",
      " 5   locality    1311 non-null   object\n",
      " 6   City        1311 non-null   object\n",
      "dtypes: int32(1), int64(1), object(5)\n",
      "memory usage: 66.7+ KB\n",
      "None\n",
      "########################################\n",
      "<class 'pandas.core.frame.DataFrame'>\n",
      "RangeIndex: 1482 entries, 0 to 1481\n",
      "Data columns (total 7 columns):\n",
      " #   Column      Non-Null Count  Dtype \n",
      "---  ------      --------------  ----- \n",
      " 0   price       1482 non-null   int32 \n",
      " 1   Furnishing  1482 non-null   object\n",
      " 2   Bathroom    1482 non-null   int64 \n",
      " 3   Balcony     1482 non-null   int64 \n",
      " 4   bhk         1482 non-null   object\n",
      " 5   locality    1482 non-null   object\n",
      " 6   City        1482 non-null   object\n",
      "dtypes: int32(1), int64(2), object(4)\n",
      "memory usage: 75.4+ KB\n",
      "None\n",
      "########################################\n",
      "<class 'pandas.core.frame.DataFrame'>\n",
      "RangeIndex: 1466 entries, 0 to 1465\n",
      "Data columns (total 7 columns):\n",
      " #   Column      Non-Null Count  Dtype \n",
      "---  ------      --------------  ----- \n",
      " 0   price       1466 non-null   int32 \n",
      " 1   Furnishing  1466 non-null   object\n",
      " 2   Bathroom    1466 non-null   object\n",
      " 3   Balcony     1466 non-null   object\n",
      " 4   bhk         1466 non-null   object\n",
      " 5   locality    1466 non-null   object\n",
      " 6   City        1466 non-null   object\n",
      "dtypes: int32(1), object(6)\n",
      "memory usage: 74.6+ KB\n",
      "None\n",
      "########################################\n",
      "<class 'pandas.core.frame.DataFrame'>\n",
      "RangeIndex: 1485 entries, 0 to 1484\n",
      "Data columns (total 7 columns):\n",
      " #   Column      Non-Null Count  Dtype \n",
      "---  ------      --------------  ----- \n",
      " 0   price       1485 non-null   int32 \n",
      " 1   Furnishing  1485 non-null   object\n",
      " 2   Bathroom    1485 non-null   object\n",
      " 3   Balcony     1485 non-null   int64 \n",
      " 4   bhk         1485 non-null   object\n",
      " 5   locality    1485 non-null   object\n",
      " 6   City        1485 non-null   object\n",
      "dtypes: int32(1), int64(1), object(5)\n",
      "memory usage: 75.5+ KB\n",
      "None\n",
      "########################################\n",
      "<class 'pandas.core.frame.DataFrame'>\n",
      "RangeIndex: 1489 entries, 0 to 1488\n",
      "Data columns (total 7 columns):\n",
      " #   Column      Non-Null Count  Dtype \n",
      "---  ------      --------------  ----- \n",
      " 0   price       1489 non-null   int32 \n",
      " 1   Furnishing  1489 non-null   object\n",
      " 2   Bathroom    1489 non-null   object\n",
      " 3   Balcony     1489 non-null   int64 \n",
      " 4   bhk         1489 non-null   object\n",
      " 5   locality    1489 non-null   object\n",
      " 6   City        1489 non-null   object\n",
      "dtypes: int32(1), int64(1), object(5)\n",
      "memory usage: 75.7+ KB\n",
      "None\n",
      "########################################\n",
      "<class 'pandas.core.frame.DataFrame'>\n",
      "RangeIndex: 1488 entries, 0 to 1487\n",
      "Data columns (total 7 columns):\n",
      " #   Column      Non-Null Count  Dtype \n",
      "---  ------      --------------  ----- \n",
      " 0   price       1488 non-null   int32 \n",
      " 1   Furnishing  1488 non-null   object\n",
      " 2   Bathroom    1488 non-null   object\n",
      " 3   Balcony     1488 non-null   object\n",
      " 4   bhk         1488 non-null   object\n",
      " 5   locality    1488 non-null   object\n",
      " 6   City        1488 non-null   object\n",
      "dtypes: int32(1), object(6)\n",
      "memory usage: 75.7+ KB\n",
      "None\n"
     ]
    }
   ],
   "source": [
    "print(delhi_data.info())\n",
    "print('##'*20)\n",
    "print(mum_data.info())\n",
    "print('##'*20)\n",
    "print(ahm_data.info())\n",
    "print('##'*20)\n",
    "print(chn_data.info())\n",
    "print('##'*20)\n",
    "print(gur_data.info())  \n",
    "print('##'*20)   \n",
    "print(kol_data.info())\n",
    "print('##'*20)   \n",
    "print(pune_data.info())\n",
    "print('##'*20)   \n",
    "print(hyd_data.info())    "
   ]
  },
  {
   "cell_type": "code",
   "execution_count": 17,
   "id": "ae08d652-943e-4d54-94f6-026bddf92ab7",
   "metadata": {},
   "outputs": [],
   "source": [
    "final_df = pd.concat([delhi_data,mum_data,ahm_data,chn_data,gur_data,kol_data,pune_data,hyd_data])"
   ]
  },
  {
   "cell_type": "code",
   "execution_count": 18,
   "id": "d675d5f5-d65a-4a77-a08a-43992ee0ebec",
   "metadata": {},
   "outputs": [
    {
     "data": {
      "text/plain": [
       "price         0\n",
       "Furnishing    0\n",
       "Bathroom      0\n",
       "Balcony       0\n",
       "locality      0\n",
       "bhk           0\n",
       "City          0\n",
       "dtype: int64"
      ]
     },
     "execution_count": 18,
     "metadata": {},
     "output_type": "execute_result"
    }
   ],
   "source": [
    "final_df.isnull().sum()"
   ]
  },
  {
   "cell_type": "code",
   "execution_count": 19,
   "id": "6dff535e-804d-4004-b2c8-e3a79bf40c94",
   "metadata": {},
   "outputs": [
    {
     "name": "stdout",
     "output_type": "stream",
     "text": [
      "<class 'pandas.core.frame.DataFrame'>\n",
      "Index: 11709 entries, 0 to 1487\n",
      "Data columns (total 7 columns):\n",
      " #   Column      Non-Null Count  Dtype \n",
      "---  ------      --------------  ----- \n",
      " 0   price       11709 non-null  int64 \n",
      " 1   Furnishing  11709 non-null  object\n",
      " 2   Bathroom    11709 non-null  object\n",
      " 3   Balcony     11709 non-null  object\n",
      " 4   locality    11709 non-null  object\n",
      " 5   bhk         11709 non-null  object\n",
      " 6   City        11709 non-null  object\n",
      "dtypes: int64(1), object(6)\n",
      "memory usage: 731.8+ KB\n"
     ]
    }
   ],
   "source": [
    "final_df.info()"
   ]
  },
  {
   "cell_type": "code",
   "execution_count": 20,
   "id": "0cc651a5-9ec2-4def-91c7-1095a0aa53d8",
   "metadata": {},
   "outputs": [],
   "source": [
    "final_df['Bathroom']= final_df['Bathroom'].replace('> 10','10')"
   ]
  },
  {
   "cell_type": "code",
   "execution_count": 21,
   "id": "aff36ddc-1763-4bf3-88f4-f3b859ab56bd",
   "metadata": {},
   "outputs": [],
   "source": [
    "final_df['Bathroom'] = final_df['Bathroom'].astype('int')"
   ]
  },
  {
   "cell_type": "code",
   "execution_count": 22,
   "id": "ba113a22-cdd0-479a-bc2f-90370f493b9e",
   "metadata": {},
   "outputs": [],
   "source": [
    "final_df['Balcony']= final_df['Balcony'].replace('> 10','10')"
   ]
  },
  {
   "cell_type": "code",
   "execution_count": 23,
   "id": "ae1ce2bd-ddc4-4dbb-a4d5-277d2bc3de10",
   "metadata": {},
   "outputs": [],
   "source": [
    "final_df['Balcony'] = final_df['Balcony'].astype('int')"
   ]
  },
  {
   "cell_type": "code",
   "execution_count": 24,
   "id": "dec6699e-54b6-47c5-a4f3-15b53ac5a761",
   "metadata": {},
   "outputs": [
    {
     "name": "stdout",
     "output_type": "stream",
     "text": [
      "<class 'pandas.core.frame.DataFrame'>\n",
      "Index: 11709 entries, 0 to 1487\n",
      "Data columns (total 7 columns):\n",
      " #   Column      Non-Null Count  Dtype \n",
      "---  ------      --------------  ----- \n",
      " 0   price       11709 non-null  int64 \n",
      " 1   Furnishing  11709 non-null  object\n",
      " 2   Bathroom    11709 non-null  int32 \n",
      " 3   Balcony     11709 non-null  int32 \n",
      " 4   locality    11709 non-null  object\n",
      " 5   bhk         11709 non-null  object\n",
      " 6   City        11709 non-null  object\n",
      "dtypes: int32(2), int64(1), object(4)\n",
      "memory usage: 640.3+ KB\n"
     ]
    }
   ],
   "source": [
    "final_df.info()"
   ]
  },
  {
   "cell_type": "code",
   "execution_count": 25,
   "id": "14a16228-7381-4dc9-afe6-2ac7b398b889",
   "metadata": {},
   "outputs": [
    {
     "data": {
      "text/html": [
       "<div>\n",
       "<style scoped>\n",
       "    .dataframe tbody tr th:only-of-type {\n",
       "        vertical-align: middle;\n",
       "    }\n",
       "\n",
       "    .dataframe tbody tr th {\n",
       "        vertical-align: top;\n",
       "    }\n",
       "\n",
       "    .dataframe thead th {\n",
       "        text-align: right;\n",
       "    }\n",
       "</style>\n",
       "<table border=\"1\" class=\"dataframe\">\n",
       "  <thead>\n",
       "    <tr style=\"text-align: right;\">\n",
       "      <th></th>\n",
       "      <th>price</th>\n",
       "      <th>Bathroom</th>\n",
       "      <th>Balcony</th>\n",
       "    </tr>\n",
       "  </thead>\n",
       "  <tbody>\n",
       "    <tr>\n",
       "      <th>count</th>\n",
       "      <td>1.170900e+04</td>\n",
       "      <td>11709.000000</td>\n",
       "      <td>11709.000000</td>\n",
       "    </tr>\n",
       "    <tr>\n",
       "      <th>mean</th>\n",
       "      <td>4.251507e+04</td>\n",
       "      <td>2.198821</td>\n",
       "      <td>1.029550</td>\n",
       "    </tr>\n",
       "    <tr>\n",
       "      <th>std</th>\n",
       "      <td>9.549233e+04</td>\n",
       "      <td>1.087681</td>\n",
       "      <td>1.165124</td>\n",
       "    </tr>\n",
       "    <tr>\n",
       "      <th>min</th>\n",
       "      <td>1.000000e+03</td>\n",
       "      <td>0.000000</td>\n",
       "      <td>0.000000</td>\n",
       "    </tr>\n",
       "    <tr>\n",
       "      <th>25%</th>\n",
       "      <td>1.200000e+04</td>\n",
       "      <td>1.000000</td>\n",
       "      <td>0.000000</td>\n",
       "    </tr>\n",
       "    <tr>\n",
       "      <th>50%</th>\n",
       "      <td>2.000000e+04</td>\n",
       "      <td>2.000000</td>\n",
       "      <td>1.000000</td>\n",
       "    </tr>\n",
       "    <tr>\n",
       "      <th>75%</th>\n",
       "      <td>4.000000e+04</td>\n",
       "      <td>3.000000</td>\n",
       "      <td>2.000000</td>\n",
       "    </tr>\n",
       "    <tr>\n",
       "      <th>max</th>\n",
       "      <td>5.000000e+06</td>\n",
       "      <td>10.000000</td>\n",
       "      <td>10.000000</td>\n",
       "    </tr>\n",
       "  </tbody>\n",
       "</table>\n",
       "</div>"
      ],
      "text/plain": [
       "              price      Bathroom       Balcony\n",
       "count  1.170900e+04  11709.000000  11709.000000\n",
       "mean   4.251507e+04      2.198821      1.029550\n",
       "std    9.549233e+04      1.087681      1.165124\n",
       "min    1.000000e+03      0.000000      0.000000\n",
       "25%    1.200000e+04      1.000000      0.000000\n",
       "50%    2.000000e+04      2.000000      1.000000\n",
       "75%    4.000000e+04      3.000000      2.000000\n",
       "max    5.000000e+06     10.000000     10.000000"
      ]
     },
     "execution_count": 25,
     "metadata": {},
     "output_type": "execute_result"
    }
   ],
   "source": [
    "final_df.describe()"
   ]
  },
  {
   "cell_type": "code",
   "execution_count": 26,
   "id": "426fd575-183c-4f95-b534-dcefae7a5f43",
   "metadata": {},
   "outputs": [],
   "source": [
    "final_df = final_df.drop_duplicates()"
   ]
  },
  {
   "cell_type": "code",
   "execution_count": 27,
   "id": "0b178b67-c0e4-488a-a373-41d5c069dd17",
   "metadata": {},
   "outputs": [
    {
     "data": {
      "text/html": [
       "<div>\n",
       "<style scoped>\n",
       "    .dataframe tbody tr th:only-of-type {\n",
       "        vertical-align: middle;\n",
       "    }\n",
       "\n",
       "    .dataframe tbody tr th {\n",
       "        vertical-align: top;\n",
       "    }\n",
       "\n",
       "    .dataframe thead th {\n",
       "        text-align: right;\n",
       "    }\n",
       "</style>\n",
       "<table border=\"1\" class=\"dataframe\">\n",
       "  <thead>\n",
       "    <tr style=\"text-align: right;\">\n",
       "      <th></th>\n",
       "      <th>price</th>\n",
       "      <th>Furnishing</th>\n",
       "      <th>Bathroom</th>\n",
       "      <th>Balcony</th>\n",
       "      <th>locality</th>\n",
       "      <th>bhk</th>\n",
       "      <th>City</th>\n",
       "    </tr>\n",
       "  </thead>\n",
       "  <tbody>\n",
       "    <tr>\n",
       "      <th>0</th>\n",
       "      <td>170000</td>\n",
       "      <td>Semi-Furnished</td>\n",
       "      <td>5</td>\n",
       "      <td>3</td>\n",
       "      <td>Maharani Bagh, New Friends Colony,</td>\n",
       "      <td>4 BHK Flat</td>\n",
       "      <td>New Delhi</td>\n",
       "    </tr>\n",
       "    <tr>\n",
       "      <th>1</th>\n",
       "      <td>180000</td>\n",
       "      <td>Unfurnished</td>\n",
       "      <td>4</td>\n",
       "      <td>2</td>\n",
       "      <td>Greater Kailash 1,</td>\n",
       "      <td>4 BHK Flat</td>\n",
       "      <td>New Delhi</td>\n",
       "    </tr>\n",
       "    <tr>\n",
       "      <th>2</th>\n",
       "      <td>30000</td>\n",
       "      <td>Semi-Furnished</td>\n",
       "      <td>2</td>\n",
       "      <td>3</td>\n",
       "      <td>Gauri Ganesh Apartment, Dwarka Sector 3,</td>\n",
       "      <td>3 BHK Flat</td>\n",
       "      <td>New Delhi</td>\n",
       "    </tr>\n",
       "    <tr>\n",
       "      <th>3</th>\n",
       "      <td>47000</td>\n",
       "      <td>Semi-Furnished</td>\n",
       "      <td>2</td>\n",
       "      <td>1</td>\n",
       "      <td>Poorvi Pitampura,</td>\n",
       "      <td>3 BHK Flat</td>\n",
       "      <td>New Delhi</td>\n",
       "    </tr>\n",
       "    <tr>\n",
       "      <th>4</th>\n",
       "      <td>48000</td>\n",
       "      <td>Unfurnished</td>\n",
       "      <td>3</td>\n",
       "      <td>4</td>\n",
       "      <td>DLF Capital Greens 1 and 2, Moti Nagar, Kirti...</td>\n",
       "      <td>3 BHK Flat</td>\n",
       "      <td>New Delhi</td>\n",
       "    </tr>\n",
       "  </tbody>\n",
       "</table>\n",
       "</div>"
      ],
      "text/plain": [
       "    price      Furnishing  Bathroom  Balcony  \\\n",
       "0  170000  Semi-Furnished         5        3   \n",
       "1  180000     Unfurnished         4        2   \n",
       "2   30000  Semi-Furnished         2        3   \n",
       "3   47000  Semi-Furnished         2        1   \n",
       "4   48000     Unfurnished         3        4   \n",
       "\n",
       "                                            locality            bhk       City  \n",
       "0                Maharani Bagh, New Friends Colony,   4 BHK Flat     New Delhi  \n",
       "1                                Greater Kailash 1,   4 BHK Flat     New Delhi  \n",
       "2          Gauri Ganesh Apartment, Dwarka Sector 3,   3 BHK Flat     New Delhi  \n",
       "3                                 Poorvi Pitampura,   3 BHK Flat     New Delhi  \n",
       "4   DLF Capital Greens 1 and 2, Moti Nagar, Kirti...  3 BHK Flat     New Delhi  "
      ]
     },
     "execution_count": 27,
     "metadata": {},
     "output_type": "execute_result"
    }
   ],
   "source": [
    "final_df.head()"
   ]
  },
  {
   "cell_type": "code",
   "execution_count": 28,
   "id": "1f3d5de0-d9b9-4a1e-97c8-b4c549c11f7d",
   "metadata": {},
   "outputs": [
    {
     "name": "stdout",
     "output_type": "stream",
     "text": [
      "<class 'pandas.core.frame.DataFrame'>\n",
      "Index: 11571 entries, 0 to 1487\n",
      "Data columns (total 7 columns):\n",
      " #   Column      Non-Null Count  Dtype \n",
      "---  ------      --------------  ----- \n",
      " 0   price       11571 non-null  int64 \n",
      " 1   Furnishing  11571 non-null  object\n",
      " 2   Bathroom    11571 non-null  int32 \n",
      " 3   Balcony     11571 non-null  int32 \n",
      " 4   locality    11571 non-null  object\n",
      " 5   bhk         11571 non-null  object\n",
      " 6   City        11571 non-null  object\n",
      "dtypes: int32(2), int64(1), object(4)\n",
      "memory usage: 632.8+ KB\n"
     ]
    }
   ],
   "source": [
    "final_df.info()"
   ]
  },
  {
   "cell_type": "code",
   "execution_count": 29,
   "id": "cc1dda3c-82d0-4fa7-a3c4-bfe9f5656529",
   "metadata": {},
   "outputs": [
    {
     "data": {
      "image/png": "[encoded data removed]",
      "text/plain": [
       "<Figure size 640x480 with 1 Axes>"
      ]
     },
     "metadata": {},
     "output_type": "display_data"
    }
   ],
   "source": [
    "# Assuming 'final_df' is your DataFrame containing the 'Bathroom' column\n",
    "bathroom = final_df['Bathroom'].value_counts()\n",
    "\n",
    "# Create the histogram plot\n",
    "sns.histplot(data=final_df, x='Bathroom', stat='count',binwidth=2)\n",
    "\n",
    "# Remove grid lines\n",
    "plt.grid(False)\n",
    "\n",
    "# Remove top and right spines\n",
    "sns.despine()\n",
    "\n",
    "# Add labels and title\n",
    "plt.xlabel('Number of Bathrooms')\n",
    "plt.ylabel('Count')\n",
    "plt.title('Histogram of Bathroom Counts')\n",
    "\n",
    "# Display the plot\n",
    "plt.show()"
   ]
  },
  {
   "cell_type": "code",
   "execution_count": 30,
   "id": "8f1baaec-974a-4555-ac90-a4917c4cf352",
   "metadata": {},
   "outputs": [],
   "source": [
    "final_df['bhk']=final_df['bhk'].str.replace('Apartment','Flat')"
   ]
  },
  {
   "cell_type": "code",
   "execution_count": 31,
   "id": "f304593d-c6de-4a2f-a2a9-569fdbbd49cd",
   "metadata": {},
   "outputs": [],
   "source": [
    "final_df['bhk'] = final_df['bhk'].str.replace('House','Flat')"
   ]
  },
  {
   "cell_type": "code",
   "execution_count": 32,
   "id": "13bac7d7-cc92-45ef-ae45-7251aaf4478e",
   "metadata": {},
   "outputs": [],
   "source": [
    "final_df['bhk'] = final_df['bhk'].str.replace('BHK  Flat','BHK Flat')"
   ]
  },
  {
   "cell_type": "code",
   "execution_count": 33,
   "id": "84f812e7-9f17-4df5-94c1-22406283efb9",
   "metadata": {},
   "outputs": [],
   "source": [
    "final_df['bhk'] = final_df['bhk'].str.replace('BHKFlat','BHK Flat')"
   ]
  },
  {
   "cell_type": "code",
   "execution_count": 34,
   "id": "93a4f685-34d5-4cff-a08a-1571406318d1",
   "metadata": {},
   "outputs": [],
   "source": [
    "final_df['bhk'] = final_df['bhk'].str.strip()"
   ]
  },
  {
   "cell_type": "code",
   "execution_count": 35,
   "id": "9760636b-48ea-4ff9-a3b2-f69ca8e73bdc",
   "metadata": {},
   "outputs": [
    {
     "data": {
      "text/plain": [
       "<function matplotlib.pyplot.show(close=None, block=None)>"
      ]
     },
     "execution_count": 35,
     "metadata": {},
     "output_type": "execute_result"
    },
    {
     "data": {
      "image/png": "[encoded data removed]",
      "text/plain": [
       "<Figure size 1500x1500 with 1 Axes>"
      ]
     },
     "metadata": {},
     "output_type": "display_data"
    }
   ],
   "source": [
    "plt.figure(figsize=(15,15))\n",
    "sns.histplot(final_df['bhk'],color='teal',stat='percent')\n",
    "plt.xticks(rotation=90)\n",
    "# Remove grid lines\n",
    "plt.grid(False)\n",
    "plt.show"
   ]
  },
  {
   "cell_type": "code",
   "execution_count": 36,
   "id": "5b58a21a-7e9c-44d5-b906-d4cd2dd973c7",
   "metadata": {},
   "outputs": [
    {
     "data": {
      "text/plain": [
       "bhk\n",
       "2 BHK Flat                3924\n",
       "3 BHK Flat                2583\n",
       "1 BHK Flat                1984\n",
       "2 BHK Builder Floor        638\n",
       "4 BHK Flat                 606\n",
       "3 BHK Builder Floor        483\n",
       "1 BHK Builder Floor        397\n",
       "3 BHK Villa                186\n",
       "4 BHK Villa                145\n",
       "4 BHK Builder Floor        141\n",
       "Studio Flat                117\n",
       "5 BHK Flat                  90\n",
       "2 BHK Villa                 68\n",
       "5 BHK Villa                 51\n",
       "1 BHK Villa                 28\n",
       "6 BHK Flat                  18\n",
       "> 10 BHK Flat               14\n",
       "1 BHK Penthouse             13\n",
       "5 BHK Builder Floor         12\n",
       "4 BHK Penthouse             12\n",
       "6 BHK Villa                  9\n",
       "2 BHK Penthouse              9\n",
       "3 BHK Penthouse              8\n",
       "8 BHK Flat                   7\n",
       "5 BHK Penthouse              7\n",
       "7 BHK Flat                   6\n",
       "7 BHK Villa                  3\n",
       "> 10 BHK Villa               3\n",
       "8 BHK Builder Floor          2\n",
       "9 BHK Flat                   1\n",
       "8 BHK Villa                  1\n",
       "10 BHK Flat                  1\n",
       "10 BHK Builder Floor         1\n",
       "6 BHK Penthouse              1\n",
       "> 10 BHK Builder Floor       1\n",
       "Flat                         1\n",
       "Name: count, dtype: int64"
      ]
     },
     "execution_count": 36,
     "metadata": {},
     "output_type": "execute_result"
    }
   ],
   "source": [
    "final_df['bhk'].value_counts()"
   ]
  },
  {
   "cell_type": "code",
   "execution_count": 37,
   "id": "0159a5f3-1200-4152-8f7e-3019766f3e77",
   "metadata": {},
   "outputs": [],
   "source": [
    "furnishing = final_df['Furnishing'].value_counts()"
   ]
  },
  {
   "cell_type": "code",
   "execution_count": 38,
   "id": "8145fa59-9a8c-4bda-80db-cf3ed1b05d72",
   "metadata": {},
   "outputs": [
    {
     "data": {
      "image/png": "[encoded data removed]",
      "text/plain": [
       "<Figure size 640x480 with 1 Axes>"
      ]
     },
     "metadata": {},
     "output_type": "display_data"
    }
   ],
   "source": [
    "# declaring data\n",
    "data = furnishing.values\n",
    "keys = furnishing.index\n",
    "  \n",
    "# define Seaborn color palette to use\n",
    "palette_color = sns.color_palette('deep')\n",
    "  \n",
    "# declaring exploding pie\n",
    "explode = [0, 0, 0.1]\n",
    "\n",
    "# plotting data on chart\n",
    "plt.pie(data, labels=keys, colors=palette_color, autopct='%.0f%%',explode=explode)\n",
    "  \n",
    "# displaying chart\n",
    "plt.show()"
   ]
  },
  {
   "cell_type": "code",
   "execution_count": 39,
   "id": "d6717e8e-92d6-45ea-8605-05950175021c",
   "metadata": {},
   "outputs": [],
   "source": [
    "final_df['locality'] = final_df['locality'].str.strip()"
   ]
  },
  {
   "cell_type": "code",
   "execution_count": 40,
   "id": "6dfe8f32-1048-4271-babe-c3c1cc48ad1a",
   "metadata": {},
   "outputs": [
    {
     "data": {
      "image/png": "[encoded data removed]",
      "text/plain": [
       "<Figure size 640x480 with 1 Axes>"
      ]
     },
     "metadata": {},
     "output_type": "display_data"
    }
   ],
   "source": [
    "sns.scatterplot(x=final_df['bhk'],y=final_df['price'])\n",
    "plt.xticks(rotation=90)\n",
    "plt.show()"
   ]
  },
  {
   "cell_type": "code",
   "execution_count": 41,
   "id": "04506539-e779-4ddb-9f31-0b9f0f66192f",
   "metadata": {},
   "outputs": [
    {
     "data": {
      "text/plain": [
       "<Axes: xlabel='price'>"
      ]
     },
     "execution_count": 41,
     "metadata": {},
     "output_type": "execute_result"
    },
    {
     "data": {
      "image/png": "[encoded data removed]",
      "text/plain": [
       "<Figure size 640x480 with 1 Axes>"
      ]
     },
     "metadata": {},
     "output_type": "display_data"
    }
   ],
   "source": [
    "sns.boxplot(x= final_df['price'])"
   ]
  },
  {
   "cell_type": "code",
   "execution_count": 42,
   "id": "0f56d9d0-3e99-4a02-95cd-e751e2f7fb0a",
   "metadata": {},
   "outputs": [
    {
     "name": "stdout",
     "output_type": "stream",
     "text": [
      "Winsorized data: [65000 65000 30000 ... 15000 10500 11000]\n"
     ]
    }
   ],
   "source": [
    "import numpy as np\n",
    "from scipy.stats.mstats import winsorize\n",
    "\n",
    "# Set the percentage of winsorization \n",
    "winsorization_percentage = 0.15\n",
    "\n",
    "# Applying winsorization to the data\n",
    "winsorized_data = winsorize(final_df['price'], limits=winsorization_percentage)\n",
    "\n",
    "#print(\"Original data:\", final_df['price'])\n",
    "print(\"Winsorized data:\", winsorized_data)"
   ]
  },
  {
   "cell_type": "code",
   "execution_count": 43,
   "id": "1fb8dd07-5f1d-4b58-8001-eb2004800afc",
   "metadata": {},
   "outputs": [],
   "source": [
    "final_df['price'] = winsorized_data"
   ]
  },
  {
   "cell_type": "code",
   "execution_count": 44,
   "id": "bb38f9ea-67ad-42c5-9b00-88c1f99d3dc7",
   "metadata": {},
   "outputs": [
    {
     "data": {
      "text/plain": [
       "<Axes: xlabel='price'>"
      ]
     },
     "execution_count": 44,
     "metadata": {},
     "output_type": "execute_result"
    },
    {
     "data": {
      "image/png": "[encoded data removed]",
      "text/plain": [
       "<Figure size 640x480 with 1 Axes>"
      ]
     },
     "metadata": {},
     "output_type": "display_data"
    }
   ],
   "source": [
    "sns.boxplot(x= final_df['price'])"
   ]
  },
  {
   "cell_type": "code",
   "execution_count": 45,
   "id": "2a58aa14-04c4-4946-8eb9-255f34d2dcd7",
   "metadata": {},
   "outputs": [],
   "source": [
    "from sklearn.cluster import KMeans\n",
    "\n",
    "# Extract the features relevant for clustering (you can choose any other features based on your data)\n",
    "X = final_df[['price']]\n",
    "\n",
    "# Perform K-Means clustering\n",
    "num_clusters = 8  # Choose the number of clusters based on your data and requirements\n",
    "kmeans = KMeans(n_clusters=num_clusters, random_state=42)\n",
    "final_df['cluster_label'] = kmeans.fit_predict(X)\n",
    "\n",
    "# Create a dictionary to map locality to cluster label\n",
    "locality_to_cluster = dict(zip(final_df['locality'], final_df['cluster_label']))\n",
    "\n",
    "# Replace locality names with cluster labels in the 'locality' column\n",
    "final_df['locality_encoded'] = final_df['locality'].map(locality_to_cluster)\n"
   ]
  },
  {
   "cell_type": "code",
   "execution_count": 46,
   "id": "5b12e380-8c2c-49a9-a5fd-18b9b75032c8",
   "metadata": {},
   "outputs": [],
   "source": [
    "final_df.drop(['locality','cluster_label'],axis=1,inplace=True)"
   ]
  },
  {
   "cell_type": "code",
   "execution_count": 47,
   "id": "9b4d2f31-8b81-4f3c-a0d5-4e6b1e5dcd4f",
   "metadata": {},
   "outputs": [],
   "source": [
    "# labelencoder function\n",
    "from sklearn.preprocessing import LabelEncoder\n",
    "\n",
    "def label_encode_column(df, column_name):\n",
    "    \"\"\"\n",
    "    Label encodes a column in a pandas dataframe.\n",
    "    \n",
    "    Parameters:\n",
    "        df (pandas.DataFrame): the dataframe containing the column to be encoded\n",
    "        column_name (str): the name of the column to be encoded\n",
    "        \n",
    "    Returns:\n",
    "        pandas.DataFrame: the original dataframe with the encoded column\n",
    "    \"\"\"\n",
    "    encoder = LabelEncoder()\n",
    "    encoded_column = encoder.fit_transform(df[column_name])\n",
    "    df[column_name] = encoded_column\n",
    "    return df"
   ]
  },
  {
   "cell_type": "code",
   "execution_count": 48,
   "id": "397b43b0-9cb5-48ca-84d5-4ba6d6596351",
   "metadata": {},
   "outputs": [],
   "source": [
    "df_encoded = label_encode_column(final_df,'Furnishing')\n",
    "df_encoded = label_encode_column(final_df,'bhk')\n",
    "df_encoded = label_encode_column(final_df,'City')"
   ]
  },
  {
   "cell_type": "code",
   "execution_count": 49,
   "id": "8bdb851e-7b27-41e0-ad3c-4af4690d7afb",
   "metadata": {},
   "outputs": [
    {
     "data": {
      "text/html": [
       "<div>\n",
       "<style scoped>\n",
       "    .dataframe tbody tr th:only-of-type {\n",
       "        vertical-align: middle;\n",
       "    }\n",
       "\n",
       "    .dataframe tbody tr th {\n",
       "        vertical-align: top;\n",
       "    }\n",
       "\n",
       "    .dataframe thead th {\n",
       "        text-align: right;\n",
       "    }\n",
       "</style>\n",
       "<table border=\"1\" class=\"dataframe\">\n",
       "  <thead>\n",
       "    <tr style=\"text-align: right;\">\n",
       "      <th></th>\n",
       "      <th>price</th>\n",
       "      <th>Furnishing</th>\n",
       "      <th>Bathroom</th>\n",
       "      <th>Balcony</th>\n",
       "      <th>bhk</th>\n",
       "      <th>City</th>\n",
       "      <th>locality_encoded</th>\n",
       "    </tr>\n",
       "  </thead>\n",
       "  <tbody>\n",
       "    <tr>\n",
       "      <th>0</th>\n",
       "      <td>65000</td>\n",
       "      <td>1</td>\n",
       "      <td>5</td>\n",
       "      <td>3</td>\n",
       "      <td>15</td>\n",
       "      <td>6</td>\n",
       "      <td>1</td>\n",
       "    </tr>\n",
       "    <tr>\n",
       "      <th>1</th>\n",
       "      <td>65000</td>\n",
       "      <td>2</td>\n",
       "      <td>4</td>\n",
       "      <td>2</td>\n",
       "      <td>15</td>\n",
       "      <td>6</td>\n",
       "      <td>1</td>\n",
       "    </tr>\n",
       "    <tr>\n",
       "      <th>2</th>\n",
       "      <td>30000</td>\n",
       "      <td>1</td>\n",
       "      <td>2</td>\n",
       "      <td>3</td>\n",
       "      <td>11</td>\n",
       "      <td>6</td>\n",
       "      <td>2</td>\n",
       "    </tr>\n",
       "    <tr>\n",
       "      <th>3</th>\n",
       "      <td>47000</td>\n",
       "      <td>1</td>\n",
       "      <td>2</td>\n",
       "      <td>1</td>\n",
       "      <td>11</td>\n",
       "      <td>6</td>\n",
       "      <td>7</td>\n",
       "    </tr>\n",
       "    <tr>\n",
       "      <th>4</th>\n",
       "      <td>48000</td>\n",
       "      <td>2</td>\n",
       "      <td>3</td>\n",
       "      <td>4</td>\n",
       "      <td>11</td>\n",
       "      <td>6</td>\n",
       "      <td>7</td>\n",
       "    </tr>\n",
       "    <tr>\n",
       "      <th>...</th>\n",
       "      <td>...</td>\n",
       "      <td>...</td>\n",
       "      <td>...</td>\n",
       "      <td>...</td>\n",
       "      <td>...</td>\n",
       "      <td>...</td>\n",
       "      <td>...</td>\n",
       "    </tr>\n",
       "    <tr>\n",
       "      <th>1483</th>\n",
       "      <td>14000</td>\n",
       "      <td>2</td>\n",
       "      <td>2</td>\n",
       "      <td>0</td>\n",
       "      <td>7</td>\n",
       "      <td>3</td>\n",
       "      <td>0</td>\n",
       "    </tr>\n",
       "    <tr>\n",
       "      <th>1484</th>\n",
       "      <td>17000</td>\n",
       "      <td>1</td>\n",
       "      <td>2</td>\n",
       "      <td>2</td>\n",
       "      <td>7</td>\n",
       "      <td>3</td>\n",
       "      <td>6</td>\n",
       "    </tr>\n",
       "    <tr>\n",
       "      <th>1485</th>\n",
       "      <td>15000</td>\n",
       "      <td>1</td>\n",
       "      <td>3</td>\n",
       "      <td>0</td>\n",
       "      <td>11</td>\n",
       "      <td>3</td>\n",
       "      <td>0</td>\n",
       "    </tr>\n",
       "    <tr>\n",
       "      <th>1486</th>\n",
       "      <td>10500</td>\n",
       "      <td>1</td>\n",
       "      <td>2</td>\n",
       "      <td>0</td>\n",
       "      <td>7</td>\n",
       "      <td>3</td>\n",
       "      <td>4</td>\n",
       "    </tr>\n",
       "    <tr>\n",
       "      <th>1487</th>\n",
       "      <td>11000</td>\n",
       "      <td>1</td>\n",
       "      <td>2</td>\n",
       "      <td>0</td>\n",
       "      <td>7</td>\n",
       "      <td>3</td>\n",
       "      <td>4</td>\n",
       "    </tr>\n",
       "  </tbody>\n",
       "</table>\n",
       "<p>11571 rows × 7 columns</p>\n",
       "</div>"
      ],
      "text/plain": [
       "      price  Furnishing  Bathroom  Balcony  bhk  City  locality_encoded\n",
       "0     65000           1         5        3   15     6                 1\n",
       "1     65000           2         4        2   15     6                 1\n",
       "2     30000           1         2        3   11     6                 2\n",
       "3     47000           1         2        1   11     6                 7\n",
       "4     48000           2         3        4   11     6                 7\n",
       "...     ...         ...       ...      ...  ...   ...               ...\n",
       "1483  14000           2         2        0    7     3                 0\n",
       "1484  17000           1         2        2    7     3                 6\n",
       "1485  15000           1         3        0   11     3                 0\n",
       "1486  10500           1         2        0    7     3                 4\n",
       "1487  11000           1         2        0    7     3                 4\n",
       "\n",
       "[11571 rows x 7 columns]"
      ]
     },
     "execution_count": 49,
     "metadata": {},
     "output_type": "execute_result"
    }
   ],
   "source": [
    "df_encoded"
   ]
  },
  {
   "cell_type": "code",
   "execution_count": 50,
   "id": "2f9e323f-56c1-4d28-a222-16a21efa9429",
   "metadata": {},
   "outputs": [
    {
     "data": {
      "text/plain": [
       "<Axes: >"
      ]
     },
     "execution_count": 50,
     "metadata": {},
     "output_type": "execute_result"
    },
    {
     "data": {
      "image/png": "[encoded data removed]",
      "text/plain": [
       "<Figure size 640x480 with 2 Axes>"
      ]
     },
     "metadata": {},
     "output_type": "display_data"
    }
   ],
   "source": [
    "#Checking correaltion\n",
    "sns.heatmap(df_encoded.corr())"
   ]
  },
  {
   "cell_type": "code",
   "execution_count": 51,
   "id": "17508f0a-5a23-4a76-b34a-4c6401b9e416",
   "metadata": {},
   "outputs": [
    {
     "data": {
      "text/plain": [
       "<Axes: >"
      ]
     },
     "execution_count": 51,
     "metadata": {},
     "output_type": "execute_result"
    },
    {
     "data": {
      "image/png": "[encoded data removed]",
      "text/plain": [
       "<Figure size 640x480 with 2 Axes>"
      ]
     },
     "metadata": {},
     "output_type": "display_data"
    }
   ],
   "source": [
    "sns.heatmap(df_encoded.corr(method='spearman'))"
   ]
  },
  {
   "cell_type": "code",
   "execution_count": 52,
   "id": "68912fdc-69d7-4021-aa58-c5e1fd66de3e",
   "metadata": {},
   "outputs": [],
   "source": [
    "y = df_encoded.iloc[:,0]"
   ]
  },
  {
   "cell_type": "code",
   "execution_count": 53,
   "id": "55a84c6d-c18d-45bb-8c06-193ff2e2dfdb",
   "metadata": {},
   "outputs": [],
   "source": [
    "x = df_encoded.iloc[:,1:]"
   ]
  },
  {
   "cell_type": "code",
   "execution_count": 54,
   "id": "5b917582-d2e5-4179-900b-4fec6ce4cd65",
   "metadata": {},
   "outputs": [
    {
     "data": {
      "text/plain": [
       "(11571, 6)"
      ]
     },
     "execution_count": 54,
     "metadata": {},
     "output_type": "execute_result"
    }
   ],
   "source": [
    "x.shape"
   ]
  },
  {
   "cell_type": "code",
   "execution_count": 55,
   "id": "b99ff261-6b38-455c-82bf-d0e3761b60b3",
   "metadata": {},
   "outputs": [
    {
     "data": {
      "text/plain": [
       "(11571,)"
      ]
     },
     "execution_count": 55,
     "metadata": {},
     "output_type": "execute_result"
    }
   ],
   "source": [
    "y.shape"
   ]
  },
  {
   "cell_type": "code",
   "execution_count": 56,
   "id": "c1d583a2-1e35-4d0f-b841-4a0d903e78cf",
   "metadata": {},
   "outputs": [],
   "source": [
    "from sklearn.preprocessing import StandardScaler\n",
    "\n",
    "# Initialize the StandardScaler\n",
    "scaler = StandardScaler()\n",
    "\n",
    "# Fit and transform the data\n",
    "normalized_data = scaler.fit_transform(x)\n",
    "\n",
    "# Create a new DataFrame with normalized data\n",
    "x_normalized = pd.DataFrame(normalized_data, columns=x.columns)"
   ]
  },
  {
   "cell_type": "code",
   "execution_count": 57,
   "id": "556088c8-b218-45d7-8905-85c46e08f235",
   "metadata": {},
   "outputs": [],
   "source": [
    "#split the data into test and train\n",
    "from sklearn.model_selection import train_test_split\n",
    "x_train,x_test,y_train,y_test = train_test_split(x,y,train_size=.80,random_state=101)"
   ]
  },
  {
   "cell_type": "code",
   "execution_count": 58,
   "id": "8cfb1c39-0ebb-473a-ae01-db2734af1228",
   "metadata": {},
   "outputs": [],
   "source": [
    "from sklearn.ensemble import RandomForestRegressor\n",
    "rf = RandomForestRegressor()"
   ]
  },
  {
   "cell_type": "code",
   "execution_count": 59,
   "id": "ff2f0ffd-b12d-455d-9309-a686f0be96e8",
   "metadata": {},
   "outputs": [],
   "source": [
    "# HyperParam Tuning - RandomizedSearchCV\n",
    "\n",
    "from sklearn.model_selection import RandomizedSearchCV"
   ]
  },
  {
   "cell_type": "code",
   "execution_count": 60,
   "id": "041abef1-b04b-4891-b812-27b55b549db6",
   "metadata": {},
   "outputs": [],
   "source": [
    "# No of Trees in RF\n",
    "n_estimators = [int(x) for x in np.linspace(start=100, stop=800, num =  4)]\n",
    "\n",
    "# No of features to consider at every split\n",
    "max_features = [\"auto\", \"sqrt\", \"log2\"]\n",
    "\n",
    "# Max no. of levels in tree - post-prunning\n",
    "max_depth = [int(x) for x in np.linspace(10, 60, num=6)]\n",
    "max_depth.append(None)\n",
    "\n",
    "# Min no of samples required to split a node\n",
    "min_samples_split = [2, 5, 10]\n",
    "\n",
    "# Min no of sample required at each leaf node\n",
    "min_samples_leaf = [1, 2 , 4]\n",
    "\n",
    "# Method of selecting samples for training each tree\n",
    "bootstrap = [True, False]"
   ]
  },
  {
   "cell_type": "code",
   "execution_count": 61,
   "id": "3a5e6d90-f605-4fa1-8167-063ec450c9bd",
   "metadata": {},
   "outputs": [],
   "source": [
    "# Create the random grid hyperparameter tuning method\n",
    "\n",
    "random_grid = {'n_estimators' : n_estimators, 'max_features' : max_features, 'max_depth': max_depth,\n",
    "               'min_samples_split': min_samples_split, 'min_samples_leaf': min_samples_leaf,\n",
    "               'bootstrap': bootstrap}"
   ]
  },
  {
   "cell_type": "code",
   "execution_count": 62,
   "id": "a0e3027f-90fe-4e9d-86ba-ae9693385983",
   "metadata": {},
   "outputs": [],
   "source": [
    "rf_random = RandomizedSearchCV(estimator = rf, param_distributions =random_grid,\n",
    "                               n_iter = 10, cv=3, verbose = 1, random_state = 42, n_jobs = -1)"
   ]
  },
  {
   "cell_type": "code",
   "execution_count": 63,
   "id": "7e4010dd-258a-491d-927e-5cfc8994bd84",
   "metadata": {},
   "outputs": [
    {
     "name": "stdout",
     "output_type": "stream",
     "text": [
      "Fitting 3 folds for each of 10 candidates, totalling 30 fits\n"
     ]
    }
   ],
   "source": [
    "model_1 = rf_random.fit(x_train,y_train)"
   ]
  },
  {
   "cell_type": "code",
   "execution_count": 64,
   "id": "a36c4c01-cba0-4813-8ffa-8e8d7a4f4793",
   "metadata": {},
   "outputs": [
    {
     "data": {
      "text/plain": [
       "{'n_estimators': 566,\n",
       " 'min_samples_split': 10,\n",
       " 'min_samples_leaf': 4,\n",
       " 'max_features': 'log2',\n",
       " 'max_depth': 50,\n",
       " 'bootstrap': False}"
      ]
     },
     "execution_count": 64,
     "metadata": {},
     "output_type": "execute_result"
    }
   ],
   "source": [
    "model_1.best_params_"
   ]
  },
  {
   "cell_type": "code",
   "execution_count": 65,
   "id": "1a2c19d5-28d6-4726-b674-16ac78f46992",
   "metadata": {},
   "outputs": [],
   "source": [
    "pred1 = model_1.predict(x_test)"
   ]
  },
  {
   "cell_type": "code",
   "execution_count": 66,
   "id": "c33c2dca-8e55-4f0e-91bb-ead32cd12dbf",
   "metadata": {},
   "outputs": [
    {
     "name": "stdout",
     "output_type": "stream",
     "text": [
      "MAE: 4834.913468845987\n",
      "\n",
      "MAPE: 21.83932366717056\n",
      "\n",
      "MSE: 60850350.73148217\n",
      "\n",
      "RMSE: 7800.663480210012\n"
     ]
    }
   ],
   "source": [
    "from sklearn import metrics\n",
    "print(\"MAE:\", metrics.mean_absolute_error(y_test, pred1))\n",
    "print()\n",
    "print(\"MAPE:\", metrics.mean_absolute_percentage_error(y_test, pred1)*100)\n",
    "print()\n",
    "print(\"MSE:\", metrics.mean_squared_error(y_test, pred1))\n",
    "print()\n",
    "print(\"RMSE:\", np.sqrt(metrics.mean_squared_error(y_test, pred1)))"
   ]
  },
  {
   "cell_type": "code",
   "execution_count": 67,
   "id": "d802ec6a-a825-481f-b26e-7555ebf7b9bf",
   "metadata": {},
   "outputs": [
    {
     "data": {
      "text/plain": [
       "0.8837212905841767"
      ]
     },
     "execution_count": 67,
     "metadata": {},
     "output_type": "execute_result"
    }
   ],
   "source": [
    "model_1.score(x_train,y_train)"
   ]
  },
  {
   "cell_type": "code",
   "execution_count": 68,
   "id": "46e6eb60-4d90-4c34-8f84-034572641b12",
   "metadata": {},
   "outputs": [
    {
     "data": {
      "text/plain": [
       "0.8392530921953885"
      ]
     },
     "execution_count": 68,
     "metadata": {},
     "output_type": "execute_result"
    }
   ],
   "source": [
    "model_1.score(x_test,y_test)"
   ]
  },
  {
   "cell_type": "code",
   "execution_count": 69,
   "id": "86445649-1735-4f30-b4c7-7155df05f185",
   "metadata": {},
   "outputs": [
    {
     "data": {
      "text/plain": [
       "0.8392530921953885"
      ]
     },
     "execution_count": 69,
     "metadata": {},
     "output_type": "execute_result"
    }
   ],
   "source": [
    "from sklearn.metrics import r2_score\n",
    "r2_score(y_test, pred1)"
   ]
  }
 ],
 "metadata": {
  "kernelspec": {
   "display_name": "Python 3 (ipykernel)",
   "language": "python",
   "name": "python3"
  },
  "language_info": {
   "codemirror_mode": {
    "name": "ipython",
    "version": 3
   },
   "file_extension": ".py",
   "mimetype": "text/x-python",
   "name": "python",
   "nbconvert_exporter": "python",
   "pygments_lexer": "ipython3",
   "version": "3.11.4"
  }
 },
 "nbformat": 4,
 "nbformat_minor": 5
}
