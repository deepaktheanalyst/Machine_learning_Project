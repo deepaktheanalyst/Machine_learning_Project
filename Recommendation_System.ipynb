{
 "cells": [
  {
   "cell_type": "code",
   "execution_count": 1,
   "id": "86f4e45b",
   "metadata": {},
   "outputs": [],
   "source": [
    "import pandas as pd\n",
    "import numpy as np\n",
    "import matplotlib.pyplot as plt\n",
    "import seaborn as sns"
   ]
  },
  {
   "cell_type": "code",
   "execution_count": 2,
   "id": "faaa2ce3",
   "metadata": {},
   "outputs": [],
   "source": [
    "movies = pd.read_csv(r\"C:\\Users\\deepa\\Downloads\\IMDB_data_movies.csv\")"
   ]
  },
  {
   "cell_type": "code",
   "execution_count": 3,
   "id": "75cb0e87",
   "metadata": {},
   "outputs": [
    {
     "data": {
      "text/html": [
       "<div>\n",
       "<style scoped>\n",
       "    .dataframe tbody tr th:only-of-type {\n",
       "        vertical-align: middle;\n",
       "    }\n",
       "\n",
       "    .dataframe tbody tr th {\n",
       "        vertical-align: top;\n",
       "    }\n",
       "\n",
       "    .dataframe thead th {\n",
       "        text-align: right;\n",
       "    }\n",
       "</style>\n",
       "<table border=\"1\" class=\"dataframe\">\n",
       "  <thead>\n",
       "    <tr style=\"text-align: right;\">\n",
       "      <th></th>\n",
       "      <th>title</th>\n",
       "      <th>certificate</th>\n",
       "      <th>duration</th>\n",
       "      <th>genre</th>\n",
       "      <th>rating</th>\n",
       "      <th>stars</th>\n",
       "      <th>votes</th>\n",
       "    </tr>\n",
       "  </thead>\n",
       "  <tbody>\n",
       "    <tr>\n",
       "      <th>0</th>\n",
       "      <td>1.Citadel(2023– )</td>\n",
       "      <td>UA 16+</td>\n",
       "      <td>NaN</td>\n",
       "      <td>Action, Drama, Thriller</td>\n",
       "      <td>6.3</td>\n",
       "      <td>['                Richard Madden, Priyanka Cho...</td>\n",
       "      <td>9,195</td>\n",
       "    </tr>\n",
       "    <tr>\n",
       "      <th>1</th>\n",
       "      <td>2.Sweet Tooth(2021– )</td>\n",
       "      <td>16</td>\n",
       "      <td>50 min</td>\n",
       "      <td>Action, Adventure, Drama</td>\n",
       "      <td>7.8</td>\n",
       "      <td>['                Nonso Anozie, Christian Conv...</td>\n",
       "      <td>58,856</td>\n",
       "    </tr>\n",
       "    <tr>\n",
       "      <th>2</th>\n",
       "      <td>3.The Mandalorian(2019– )</td>\n",
       "      <td>U</td>\n",
       "      <td>40 min</td>\n",
       "      <td>Action, Adventure, Fantasy</td>\n",
       "      <td>8.7</td>\n",
       "      <td>['                Pedro Pascal, Chris Bartlett...</td>\n",
       "      <td>5,41,537</td>\n",
       "    </tr>\n",
       "    <tr>\n",
       "      <th>3</th>\n",
       "      <td>4.Barry(2018–2023)</td>\n",
       "      <td>15+</td>\n",
       "      <td>30 min</td>\n",
       "      <td>Action, Comedy, Crime</td>\n",
       "      <td>8.4</td>\n",
       "      <td>['                Bill Hader, Stephen Root, Sa...</td>\n",
       "      <td>94,033</td>\n",
       "    </tr>\n",
       "    <tr>\n",
       "      <th>4</th>\n",
       "      <td>5.The Night Agent(2023– )</td>\n",
       "      <td>UA 16+</td>\n",
       "      <td>45 min</td>\n",
       "      <td>Action, Drama, Thriller</td>\n",
       "      <td>7.5</td>\n",
       "      <td>['                Gabriel Basso, Luciane Bucha...</td>\n",
       "      <td>68,313</td>\n",
       "    </tr>\n",
       "  </tbody>\n",
       "</table>\n",
       "</div>"
      ],
      "text/plain": [
       "                       title certificate duration  \\\n",
       "0          1.Citadel(2023– )      UA 16+      NaN   \n",
       "1      2.Sweet Tooth(2021– )          16   50 min   \n",
       "2  3.The Mandalorian(2019– )           U   40 min   \n",
       "3         4.Barry(2018–2023)         15+   30 min   \n",
       "4  5.The Night Agent(2023– )      UA 16+   45 min   \n",
       "\n",
       "                                    genre  rating  \\\n",
       "0     Action, Drama, Thriller                 6.3   \n",
       "1    Action, Adventure, Drama                 7.8   \n",
       "2  Action, Adventure, Fantasy                 8.7   \n",
       "3       Action, Comedy, Crime                 8.4   \n",
       "4     Action, Drama, Thriller                 7.5   \n",
       "\n",
       "                                               stars     votes  \n",
       "0  ['                Richard Madden, Priyanka Cho...     9,195  \n",
       "1  ['                Nonso Anozie, Christian Conv...    58,856  \n",
       "2  ['                Pedro Pascal, Chris Bartlett...  5,41,537  \n",
       "3  ['                Bill Hader, Stephen Root, Sa...    94,033  \n",
       "4  ['                Gabriel Basso, Luciane Bucha...    68,313  "
      ]
     },
     "execution_count": 3,
     "metadata": {},
     "output_type": "execute_result"
    }
   ],
   "source": [
    "movies.head()"
   ]
  },
  {
   "cell_type": "code",
   "execution_count": 4,
   "id": "c8612e66",
   "metadata": {},
   "outputs": [],
   "source": [
    "movies['title'] = movies['title'].str.split('(').str[0].str.strip()"
   ]
  },
  {
   "cell_type": "code",
   "execution_count": 5,
   "id": "af127ca7",
   "metadata": {},
   "outputs": [
    {
     "data": {
      "text/html": [
       "<div>\n",
       "<style scoped>\n",
       "    .dataframe tbody tr th:only-of-type {\n",
       "        vertical-align: middle;\n",
       "    }\n",
       "\n",
       "    .dataframe tbody tr th {\n",
       "        vertical-align: top;\n",
       "    }\n",
       "\n",
       "    .dataframe thead th {\n",
       "        text-align: right;\n",
       "    }\n",
       "</style>\n",
       "<table border=\"1\" class=\"dataframe\">\n",
       "  <thead>\n",
       "    <tr style=\"text-align: right;\">\n",
       "      <th></th>\n",
       "      <th>title</th>\n",
       "      <th>certificate</th>\n",
       "      <th>duration</th>\n",
       "      <th>genre</th>\n",
       "      <th>rating</th>\n",
       "      <th>stars</th>\n",
       "      <th>votes</th>\n",
       "    </tr>\n",
       "  </thead>\n",
       "  <tbody>\n",
       "    <tr>\n",
       "      <th>0</th>\n",
       "      <td>1.Citadel</td>\n",
       "      <td>UA 16+</td>\n",
       "      <td>NaN</td>\n",
       "      <td>Action, Drama, Thriller</td>\n",
       "      <td>6.3</td>\n",
       "      <td>['                Richard Madden, Priyanka Cho...</td>\n",
       "      <td>9,195</td>\n",
       "    </tr>\n",
       "    <tr>\n",
       "      <th>1</th>\n",
       "      <td>2.Sweet Tooth</td>\n",
       "      <td>16</td>\n",
       "      <td>50 min</td>\n",
       "      <td>Action, Adventure, Drama</td>\n",
       "      <td>7.8</td>\n",
       "      <td>['                Nonso Anozie, Christian Conv...</td>\n",
       "      <td>58,856</td>\n",
       "    </tr>\n",
       "    <tr>\n",
       "      <th>2</th>\n",
       "      <td>3.The Mandalorian</td>\n",
       "      <td>U</td>\n",
       "      <td>40 min</td>\n",
       "      <td>Action, Adventure, Fantasy</td>\n",
       "      <td>8.7</td>\n",
       "      <td>['                Pedro Pascal, Chris Bartlett...</td>\n",
       "      <td>5,41,537</td>\n",
       "    </tr>\n",
       "    <tr>\n",
       "      <th>3</th>\n",
       "      <td>4.Barry</td>\n",
       "      <td>15+</td>\n",
       "      <td>30 min</td>\n",
       "      <td>Action, Comedy, Crime</td>\n",
       "      <td>8.4</td>\n",
       "      <td>['                Bill Hader, Stephen Root, Sa...</td>\n",
       "      <td>94,033</td>\n",
       "    </tr>\n",
       "    <tr>\n",
       "      <th>4</th>\n",
       "      <td>5.The Night Agent</td>\n",
       "      <td>UA 16+</td>\n",
       "      <td>45 min</td>\n",
       "      <td>Action, Drama, Thriller</td>\n",
       "      <td>7.5</td>\n",
       "      <td>['                Gabriel Basso, Luciane Bucha...</td>\n",
       "      <td>68,313</td>\n",
       "    </tr>\n",
       "  </tbody>\n",
       "</table>\n",
       "</div>"
      ],
      "text/plain": [
       "               title certificate duration  \\\n",
       "0          1.Citadel      UA 16+      NaN   \n",
       "1      2.Sweet Tooth          16   50 min   \n",
       "2  3.The Mandalorian           U   40 min   \n",
       "3            4.Barry         15+   30 min   \n",
       "4  5.The Night Agent      UA 16+   45 min   \n",
       "\n",
       "                                    genre  rating  \\\n",
       "0     Action, Drama, Thriller                 6.3   \n",
       "1    Action, Adventure, Drama                 7.8   \n",
       "2  Action, Adventure, Fantasy                 8.7   \n",
       "3       Action, Comedy, Crime                 8.4   \n",
       "4     Action, Drama, Thriller                 7.5   \n",
       "\n",
       "                                               stars     votes  \n",
       "0  ['                Richard Madden, Priyanka Cho...     9,195  \n",
       "1  ['                Nonso Anozie, Christian Conv...    58,856  \n",
       "2  ['                Pedro Pascal, Chris Bartlett...  5,41,537  \n",
       "3  ['                Bill Hader, Stephen Root, Sa...    94,033  \n",
       "4  ['                Gabriel Basso, Luciane Bucha...    68,313  "
      ]
     },
     "execution_count": 5,
     "metadata": {},
     "output_type": "execute_result"
    }
   ],
   "source": [
    "movies.head(5)"
   ]
  },
  {
   "cell_type": "code",
   "execution_count": 6,
   "id": "cd284def",
   "metadata": {},
   "outputs": [],
   "source": [
    "movies['title'] = movies['title'].str.split('.').str[1].str.split('(').str[0].str.strip()"
   ]
  },
  {
   "cell_type": "code",
   "execution_count": 7,
   "id": "30d85ba4",
   "metadata": {},
   "outputs": [
    {
     "data": {
      "text/html": [
       "<div>\n",
       "<style scoped>\n",
       "    .dataframe tbody tr th:only-of-type {\n",
       "        vertical-align: middle;\n",
       "    }\n",
       "\n",
       "    .dataframe tbody tr th {\n",
       "        vertical-align: top;\n",
       "    }\n",
       "\n",
       "    .dataframe thead th {\n",
       "        text-align: right;\n",
       "    }\n",
       "</style>\n",
       "<table border=\"1\" class=\"dataframe\">\n",
       "  <thead>\n",
       "    <tr style=\"text-align: right;\">\n",
       "      <th></th>\n",
       "      <th>title</th>\n",
       "      <th>certificate</th>\n",
       "      <th>duration</th>\n",
       "      <th>genre</th>\n",
       "      <th>rating</th>\n",
       "      <th>stars</th>\n",
       "      <th>votes</th>\n",
       "    </tr>\n",
       "  </thead>\n",
       "  <tbody>\n",
       "    <tr>\n",
       "      <th>0</th>\n",
       "      <td>Citadel</td>\n",
       "      <td>UA 16+</td>\n",
       "      <td>NaN</td>\n",
       "      <td>Action, Drama, Thriller</td>\n",
       "      <td>6.3</td>\n",
       "      <td>['                Richard Madden, Priyanka Cho...</td>\n",
       "      <td>9,195</td>\n",
       "    </tr>\n",
       "    <tr>\n",
       "      <th>1</th>\n",
       "      <td>Sweet Tooth</td>\n",
       "      <td>16</td>\n",
       "      <td>50 min</td>\n",
       "      <td>Action, Adventure, Drama</td>\n",
       "      <td>7.8</td>\n",
       "      <td>['                Nonso Anozie, Christian Conv...</td>\n",
       "      <td>58,856</td>\n",
       "    </tr>\n",
       "    <tr>\n",
       "      <th>2</th>\n",
       "      <td>The Mandalorian</td>\n",
       "      <td>U</td>\n",
       "      <td>40 min</td>\n",
       "      <td>Action, Adventure, Fantasy</td>\n",
       "      <td>8.7</td>\n",
       "      <td>['                Pedro Pascal, Chris Bartlett...</td>\n",
       "      <td>5,41,537</td>\n",
       "    </tr>\n",
       "    <tr>\n",
       "      <th>3</th>\n",
       "      <td>Barry</td>\n",
       "      <td>15+</td>\n",
       "      <td>30 min</td>\n",
       "      <td>Action, Comedy, Crime</td>\n",
       "      <td>8.4</td>\n",
       "      <td>['                Bill Hader, Stephen Root, Sa...</td>\n",
       "      <td>94,033</td>\n",
       "    </tr>\n",
       "    <tr>\n",
       "      <th>4</th>\n",
       "      <td>The Night Agent</td>\n",
       "      <td>UA 16+</td>\n",
       "      <td>45 min</td>\n",
       "      <td>Action, Drama, Thriller</td>\n",
       "      <td>7.5</td>\n",
       "      <td>['                Gabriel Basso, Luciane Bucha...</td>\n",
       "      <td>68,313</td>\n",
       "    </tr>\n",
       "  </tbody>\n",
       "</table>\n",
       "</div>"
      ],
      "text/plain": [
       "             title certificate duration  \\\n",
       "0          Citadel      UA 16+      NaN   \n",
       "1      Sweet Tooth          16   50 min   \n",
       "2  The Mandalorian           U   40 min   \n",
       "3            Barry         15+   30 min   \n",
       "4  The Night Agent      UA 16+   45 min   \n",
       "\n",
       "                                    genre  rating  \\\n",
       "0     Action, Drama, Thriller                 6.3   \n",
       "1    Action, Adventure, Drama                 7.8   \n",
       "2  Action, Adventure, Fantasy                 8.7   \n",
       "3       Action, Comedy, Crime                 8.4   \n",
       "4     Action, Drama, Thriller                 7.5   \n",
       "\n",
       "                                               stars     votes  \n",
       "0  ['                Richard Madden, Priyanka Cho...     9,195  \n",
       "1  ['                Nonso Anozie, Christian Conv...    58,856  \n",
       "2  ['                Pedro Pascal, Chris Bartlett...  5,41,537  \n",
       "3  ['                Bill Hader, Stephen Root, Sa...    94,033  \n",
       "4  ['                Gabriel Basso, Luciane Bucha...    68,313  "
      ]
     },
     "execution_count": 7,
     "metadata": {},
     "output_type": "execute_result"
    }
   ],
   "source": [
    "movies.head(5)"
   ]
  },
  {
   "cell_type": "code",
   "execution_count": 8,
   "id": "c3a7a051",
   "metadata": {},
   "outputs": [
    {
     "data": {
      "text/plain": [
       "9602"
      ]
     },
     "execution_count": 8,
     "metadata": {},
     "output_type": "execute_result"
    }
   ],
   "source": [
    "movies['title'].nunique()"
   ]
  },
  {
   "cell_type": "code",
   "execution_count": 9,
   "id": "bdf82320",
   "metadata": {},
   "outputs": [],
   "source": [
    "movies['title'] = movies['title'].drop_duplicates()"
   ]
  },
  {
   "cell_type": "code",
   "execution_count": 10,
   "id": "41cc8471",
   "metadata": {},
   "outputs": [
    {
     "data": {
      "text/plain": [
       "(9950, 7)"
      ]
     },
     "execution_count": 10,
     "metadata": {},
     "output_type": "execute_result"
    }
   ],
   "source": [
    "movies.shape"
   ]
  },
  {
   "cell_type": "code",
   "execution_count": 11,
   "id": "9527026d",
   "metadata": {},
   "outputs": [
    {
     "data": {
      "text/plain": [
       "title           348\n",
       "certificate    9171\n",
       "duration       4907\n",
       "genre             0\n",
       "rating         3553\n",
       "stars             0\n",
       "votes          3553\n",
       "dtype: int64"
      ]
     },
     "execution_count": 11,
     "metadata": {},
     "output_type": "execute_result"
    }
   ],
   "source": [
    "movies.isnull().sum()"
   ]
  },
  {
   "cell_type": "code",
   "execution_count": 12,
   "id": "2e4e898f",
   "metadata": {},
   "outputs": [],
   "source": [
    "movies = movies.dropna(subset=['title', 'duration', 'rating'])"
   ]
  },
  {
   "cell_type": "code",
   "execution_count": 13,
   "id": "5a27b428",
   "metadata": {},
   "outputs": [
    {
     "data": {
      "text/plain": [
       "(4198, 7)"
      ]
     },
     "execution_count": 13,
     "metadata": {},
     "output_type": "execute_result"
    }
   ],
   "source": [
    "movies.shape"
   ]
  },
  {
   "cell_type": "code",
   "execution_count": 14,
   "id": "80495f41",
   "metadata": {},
   "outputs": [
    {
     "data": {
      "text/plain": [
       "title             0\n",
       "certificate    3531\n",
       "duration          0\n",
       "genre             0\n",
       "rating            0\n",
       "stars             0\n",
       "votes             0\n",
       "dtype: int64"
      ]
     },
     "execution_count": 14,
     "metadata": {},
     "output_type": "execute_result"
    }
   ],
   "source": [
    "movies.isnull().sum()"
   ]
  },
  {
   "cell_type": "code",
   "execution_count": 15,
   "id": "4bbb77e8",
   "metadata": {},
   "outputs": [],
   "source": [
    "movies.drop('certificate',axis=1,inplace=True)"
   ]
  },
  {
   "cell_type": "code",
   "execution_count": 16,
   "id": "8309142d",
   "metadata": {},
   "outputs": [
    {
     "data": {
      "text/html": [
       "<div>\n",
       "<style scoped>\n",
       "    .dataframe tbody tr th:only-of-type {\n",
       "        vertical-align: middle;\n",
       "    }\n",
       "\n",
       "    .dataframe tbody tr th {\n",
       "        vertical-align: top;\n",
       "    }\n",
       "\n",
       "    .dataframe thead th {\n",
       "        text-align: right;\n",
       "    }\n",
       "</style>\n",
       "<table border=\"1\" class=\"dataframe\">\n",
       "  <thead>\n",
       "    <tr style=\"text-align: right;\">\n",
       "      <th></th>\n",
       "      <th>title</th>\n",
       "      <th>duration</th>\n",
       "      <th>genre</th>\n",
       "      <th>rating</th>\n",
       "      <th>stars</th>\n",
       "      <th>votes</th>\n",
       "    </tr>\n",
       "  </thead>\n",
       "  <tbody>\n",
       "    <tr>\n",
       "      <th>1</th>\n",
       "      <td>Sweet Tooth</td>\n",
       "      <td>50 min</td>\n",
       "      <td>Action, Adventure, Drama</td>\n",
       "      <td>7.8</td>\n",
       "      <td>['                Nonso Anozie, Christian Conv...</td>\n",
       "      <td>58,856</td>\n",
       "    </tr>\n",
       "    <tr>\n",
       "      <th>2</th>\n",
       "      <td>The Mandalorian</td>\n",
       "      <td>40 min</td>\n",
       "      <td>Action, Adventure, Fantasy</td>\n",
       "      <td>8.7</td>\n",
       "      <td>['                Pedro Pascal, Chris Bartlett...</td>\n",
       "      <td>5,41,537</td>\n",
       "    </tr>\n",
       "    <tr>\n",
       "      <th>3</th>\n",
       "      <td>Barry</td>\n",
       "      <td>30 min</td>\n",
       "      <td>Action, Comedy, Crime</td>\n",
       "      <td>8.4</td>\n",
       "      <td>['                Bill Hader, Stephen Root, Sa...</td>\n",
       "      <td>94,033</td>\n",
       "    </tr>\n",
       "    <tr>\n",
       "      <th>4</th>\n",
       "      <td>The Night Agent</td>\n",
       "      <td>45 min</td>\n",
       "      <td>Action, Drama, Thriller</td>\n",
       "      <td>7.5</td>\n",
       "      <td>['                Gabriel Basso, Luciane Bucha...</td>\n",
       "      <td>68,313</td>\n",
       "    </tr>\n",
       "    <tr>\n",
       "      <th>5</th>\n",
       "      <td>The Rookie</td>\n",
       "      <td>43 min</td>\n",
       "      <td>Action, Crime, Drama</td>\n",
       "      <td>8.0</td>\n",
       "      <td>[\"                Nathan Fillion, Alyssa Diaz,...</td>\n",
       "      <td>48,599</td>\n",
       "    </tr>\n",
       "  </tbody>\n",
       "</table>\n",
       "</div>"
      ],
      "text/plain": [
       "             title duration                                   genre  rating  \\\n",
       "1      Sweet Tooth   50 min    Action, Adventure, Drama                 7.8   \n",
       "2  The Mandalorian   40 min  Action, Adventure, Fantasy                 8.7   \n",
       "3            Barry   30 min       Action, Comedy, Crime                 8.4   \n",
       "4  The Night Agent   45 min     Action, Drama, Thriller                 7.5   \n",
       "5       The Rookie   43 min        Action, Crime, Drama                 8.0   \n",
       "\n",
       "                                               stars     votes  \n",
       "1  ['                Nonso Anozie, Christian Conv...    58,856  \n",
       "2  ['                Pedro Pascal, Chris Bartlett...  5,41,537  \n",
       "3  ['                Bill Hader, Stephen Root, Sa...    94,033  \n",
       "4  ['                Gabriel Basso, Luciane Bucha...    68,313  \n",
       "5  [\"                Nathan Fillion, Alyssa Diaz,...    48,599  "
      ]
     },
     "execution_count": 16,
     "metadata": {},
     "output_type": "execute_result"
    }
   ],
   "source": [
    "movies.head()"
   ]
  },
  {
   "cell_type": "code",
   "execution_count": 17,
   "id": "ea0e175a",
   "metadata": {},
   "outputs": [
    {
     "data": {
      "text/plain": [
       "1       ['                Nonso Anozie, Christian Conv...\n",
       "2       ['                Pedro Pascal, Chris Bartlett...\n",
       "3       ['                Bill Hader, Stephen Root, Sa...\n",
       "4       ['                Gabriel Basso, Luciane Bucha...\n",
       "5       [\"                Nathan Fillion, Alyssa Diaz,...\n",
       "                              ...                        \n",
       "9907          ['                Aaron Yonda, Matt Sloan']\n",
       "9923    ['                Jaiden Marchetti, Ryder Lewe...\n",
       "9925    ['                Masaki Nakao, Miki Yanagi, S...\n",
       "9929    ['                Jon Bailey, Abby Trott, Fran...\n",
       "9938    ['                Dusan Szabo, Ivan Martinka, ...\n",
       "Name: stars, Length: 4198, dtype: object"
      ]
     },
     "execution_count": 17,
     "metadata": {},
     "output_type": "execute_result"
    }
   ],
   "source": [
    "movies.stars"
   ]
  },
  {
   "cell_type": "code",
   "execution_count": 18,
   "id": "11ef5cc0",
   "metadata": {},
   "outputs": [],
   "source": [
    "import re\n",
    "\n",
    "# Replace the unwanted characters with an empty string\n",
    "movies['stars'] = movies['stars'].replace(r'[:\\[\\]\\s]+', '', regex=True)\n"
   ]
  },
  {
   "cell_type": "code",
   "execution_count": 19,
   "id": "3d0d08fc",
   "metadata": {},
   "outputs": [
    {
     "data": {
      "text/html": [
       "<div>\n",
       "<style scoped>\n",
       "    .dataframe tbody tr th:only-of-type {\n",
       "        vertical-align: middle;\n",
       "    }\n",
       "\n",
       "    .dataframe tbody tr th {\n",
       "        vertical-align: top;\n",
       "    }\n",
       "\n",
       "    .dataframe thead th {\n",
       "        text-align: right;\n",
       "    }\n",
       "</style>\n",
       "<table border=\"1\" class=\"dataframe\">\n",
       "  <thead>\n",
       "    <tr style=\"text-align: right;\">\n",
       "      <th></th>\n",
       "      <th>title</th>\n",
       "      <th>duration</th>\n",
       "      <th>genre</th>\n",
       "      <th>rating</th>\n",
       "      <th>stars</th>\n",
       "      <th>votes</th>\n",
       "    </tr>\n",
       "  </thead>\n",
       "  <tbody>\n",
       "    <tr>\n",
       "      <th>1</th>\n",
       "      <td>Sweet Tooth</td>\n",
       "      <td>50 min</td>\n",
       "      <td>Action, Adventure, Drama</td>\n",
       "      <td>7.8</td>\n",
       "      <td>'NonsoAnozie,ChristianConvery,AdeelAkhtar,Stef...</td>\n",
       "      <td>58,856</td>\n",
       "    </tr>\n",
       "    <tr>\n",
       "      <th>2</th>\n",
       "      <td>The Mandalorian</td>\n",
       "      <td>40 min</td>\n",
       "      <td>Action, Adventure, Fantasy</td>\n",
       "      <td>8.7</td>\n",
       "      <td>'PedroPascal,ChrisBartlett,KateeSackhoff,CarlW...</td>\n",
       "      <td>5,41,537</td>\n",
       "    </tr>\n",
       "    <tr>\n",
       "      <th>3</th>\n",
       "      <td>Barry</td>\n",
       "      <td>30 min</td>\n",
       "      <td>Action, Comedy, Crime</td>\n",
       "      <td>8.4</td>\n",
       "      <td>'BillHader,StephenRoot,SarahGoldberg,AnthonyCa...</td>\n",
       "      <td>94,033</td>\n",
       "    </tr>\n",
       "    <tr>\n",
       "      <th>4</th>\n",
       "      <td>The Night Agent</td>\n",
       "      <td>45 min</td>\n",
       "      <td>Action, Drama, Thriller</td>\n",
       "      <td>7.5</td>\n",
       "      <td>'GabrielBasso,LucianeBuchanan,FolaEvans-Akingb...</td>\n",
       "      <td>68,313</td>\n",
       "    </tr>\n",
       "    <tr>\n",
       "      <th>5</th>\n",
       "      <td>The Rookie</td>\n",
       "      <td>43 min</td>\n",
       "      <td>Action, Crime, Drama</td>\n",
       "      <td>8.0</td>\n",
       "      <td>\"NathanFillion,AlyssaDiaz,RichardT.Jones,Melis...</td>\n",
       "      <td>48,599</td>\n",
       "    </tr>\n",
       "  </tbody>\n",
       "</table>\n",
       "</div>"
      ],
      "text/plain": [
       "             title duration                                   genre  rating  \\\n",
       "1      Sweet Tooth   50 min    Action, Adventure, Drama                 7.8   \n",
       "2  The Mandalorian   40 min  Action, Adventure, Fantasy                 8.7   \n",
       "3            Barry   30 min       Action, Comedy, Crime                 8.4   \n",
       "4  The Night Agent   45 min     Action, Drama, Thriller                 7.5   \n",
       "5       The Rookie   43 min        Action, Crime, Drama                 8.0   \n",
       "\n",
       "                                               stars     votes  \n",
       "1  'NonsoAnozie,ChristianConvery,AdeelAkhtar,Stef...    58,856  \n",
       "2  'PedroPascal,ChrisBartlett,KateeSackhoff,CarlW...  5,41,537  \n",
       "3  'BillHader,StephenRoot,SarahGoldberg,AnthonyCa...    94,033  \n",
       "4  'GabrielBasso,LucianeBuchanan,FolaEvans-Akingb...    68,313  \n",
       "5  \"NathanFillion,AlyssaDiaz,RichardT.Jones,Melis...    48,599  "
      ]
     },
     "execution_count": 19,
     "metadata": {},
     "output_type": "execute_result"
    }
   ],
   "source": [
    "movies.head()"
   ]
  },
  {
   "cell_type": "code",
   "execution_count": 20,
   "id": "c4f809ff",
   "metadata": {},
   "outputs": [],
   "source": [
    "import re\n",
    "\n",
    "# Remove quotes marks from the stars column\n",
    "movies['stars'] = movies['stars'].replace(r'[\\'\"]', '', regex=True)"
   ]
  },
  {
   "cell_type": "code",
   "execution_count": 21,
   "id": "8a85f9d9",
   "metadata": {},
   "outputs": [],
   "source": [
    "movies['rating'] = movies['rating'].astype('float')"
   ]
  },
  {
   "cell_type": "code",
   "execution_count": 22,
   "id": "2729f2d3",
   "metadata": {},
   "outputs": [],
   "source": [
    "movies['votes'] = movies['votes'].str.replace(',', '')"
   ]
  },
  {
   "cell_type": "code",
   "execution_count": 23,
   "id": "0df0a8c9",
   "metadata": {},
   "outputs": [],
   "source": [
    "movies['votes'] = movies['votes'].astype('int')"
   ]
  },
  {
   "cell_type": "code",
   "execution_count": 24,
   "id": "2ca3f30c",
   "metadata": {},
   "outputs": [],
   "source": [
    "from datetime import timedelta, datetime\n",
    "\n",
    "movies['duration'] = pd.to_timedelta(movies['duration'].replace(' min', ':00'))"
   ]
  },
  {
   "cell_type": "code",
   "execution_count": 25,
   "id": "fd204c89",
   "metadata": {},
   "outputs": [
    {
     "data": {
      "text/plain": [
       "title       0\n",
       "duration    0\n",
       "genre       0\n",
       "rating      0\n",
       "stars       0\n",
       "votes       0\n",
       "dtype: int64"
      ]
     },
     "execution_count": 25,
     "metadata": {},
     "output_type": "execute_result"
    }
   ],
   "source": [
    "movies.isnull().sum()"
   ]
  },
  {
   "cell_type": "code",
   "execution_count": 26,
   "id": "75934a80",
   "metadata": {},
   "outputs": [
    {
     "data": {
      "text/html": [
       "<div>\n",
       "<style scoped>\n",
       "    .dataframe tbody tr th:only-of-type {\n",
       "        vertical-align: middle;\n",
       "    }\n",
       "\n",
       "    .dataframe tbody tr th {\n",
       "        vertical-align: top;\n",
       "    }\n",
       "\n",
       "    .dataframe thead th {\n",
       "        text-align: right;\n",
       "    }\n",
       "</style>\n",
       "<table border=\"1\" class=\"dataframe\">\n",
       "  <thead>\n",
       "    <tr style=\"text-align: right;\">\n",
       "      <th></th>\n",
       "      <th>title</th>\n",
       "      <th>duration</th>\n",
       "      <th>genre</th>\n",
       "      <th>rating</th>\n",
       "      <th>stars</th>\n",
       "      <th>votes</th>\n",
       "    </tr>\n",
       "  </thead>\n",
       "  <tbody>\n",
       "    <tr>\n",
       "      <th>1</th>\n",
       "      <td>Sweet Tooth</td>\n",
       "      <td>0 days 00:50:00</td>\n",
       "      <td>Action, Adventure, Drama</td>\n",
       "      <td>7.8</td>\n",
       "      <td>NonsoAnozie,ChristianConvery,AdeelAkhtar,Stefa...</td>\n",
       "      <td>58856</td>\n",
       "    </tr>\n",
       "    <tr>\n",
       "      <th>2</th>\n",
       "      <td>The Mandalorian</td>\n",
       "      <td>0 days 00:40:00</td>\n",
       "      <td>Action, Adventure, Fantasy</td>\n",
       "      <td>8.7</td>\n",
       "      <td>PedroPascal,ChrisBartlett,KateeSackhoff,CarlWe...</td>\n",
       "      <td>541537</td>\n",
       "    </tr>\n",
       "    <tr>\n",
       "      <th>3</th>\n",
       "      <td>Barry</td>\n",
       "      <td>0 days 00:30:00</td>\n",
       "      <td>Action, Comedy, Crime</td>\n",
       "      <td>8.4</td>\n",
       "      <td>BillHader,StephenRoot,SarahGoldberg,AnthonyCar...</td>\n",
       "      <td>94033</td>\n",
       "    </tr>\n",
       "    <tr>\n",
       "      <th>4</th>\n",
       "      <td>The Night Agent</td>\n",
       "      <td>0 days 00:45:00</td>\n",
       "      <td>Action, Drama, Thriller</td>\n",
       "      <td>7.5</td>\n",
       "      <td>GabrielBasso,LucianeBuchanan,FolaEvans-Akingbo...</td>\n",
       "      <td>68313</td>\n",
       "    </tr>\n",
       "    <tr>\n",
       "      <th>5</th>\n",
       "      <td>The Rookie</td>\n",
       "      <td>0 days 00:43:00</td>\n",
       "      <td>Action, Crime, Drama</td>\n",
       "      <td>8.0</td>\n",
       "      <td>NathanFillion,AlyssaDiaz,RichardT.Jones,Meliss...</td>\n",
       "      <td>48599</td>\n",
       "    </tr>\n",
       "  </tbody>\n",
       "</table>\n",
       "</div>"
      ],
      "text/plain": [
       "             title        duration                                   genre  \\\n",
       "1      Sweet Tooth 0 days 00:50:00    Action, Adventure, Drama               \n",
       "2  The Mandalorian 0 days 00:40:00  Action, Adventure, Fantasy               \n",
       "3            Barry 0 days 00:30:00       Action, Comedy, Crime               \n",
       "4  The Night Agent 0 days 00:45:00     Action, Drama, Thriller               \n",
       "5       The Rookie 0 days 00:43:00        Action, Crime, Drama               \n",
       "\n",
       "   rating                                              stars   votes  \n",
       "1     7.8  NonsoAnozie,ChristianConvery,AdeelAkhtar,Stefa...   58856  \n",
       "2     8.7  PedroPascal,ChrisBartlett,KateeSackhoff,CarlWe...  541537  \n",
       "3     8.4  BillHader,StephenRoot,SarahGoldberg,AnthonyCar...   94033  \n",
       "4     7.5  GabrielBasso,LucianeBuchanan,FolaEvans-Akingbo...   68313  \n",
       "5     8.0  NathanFillion,AlyssaDiaz,RichardT.Jones,Meliss...   48599  "
      ]
     },
     "execution_count": 26,
     "metadata": {},
     "output_type": "execute_result"
    }
   ],
   "source": [
    "movies.head()"
   ]
  },
  {
   "cell_type": "code",
   "execution_count": 27,
   "id": "251a1df8",
   "metadata": {},
   "outputs": [],
   "source": [
    "from sklearn.feature_extraction.text import CountVectorizer\n",
    "from sklearn.metrics.pairwise import cosine_similarity\n",
    "import pandas as pd\n",
    "from sklearn.preprocessing import MinMaxScaler\n",
    "from scipy.sparse import hstack"
   ]
  },
  {
   "cell_type": "code",
   "execution_count": 28,
   "id": "0c079bb5",
   "metadata": {},
   "outputs": [],
   "source": [
    "scaler = MinMaxScaler()\n",
    "movies['duration_scaled'] = scaler.fit_transform(movies['duration'].values.reshape(-1, 1))\n",
    "movies['rating_scaled'] = scaler.fit_transform(movies['rating'].values.reshape(-1, 1))\n",
    "movies['votes_scaled'] = scaler.fit_transform(movies['votes'].values.reshape(-1, 1))"
   ]
  },
  {
   "cell_type": "code",
   "execution_count": 29,
   "id": "dd570e01",
   "metadata": {},
   "outputs": [],
   "source": [
    "# Vectorize the genre and star columns\n",
    "cv = CountVectorizer(max_features=5000, stop_words='english', binary=True)\n",
    "genre_vectorized = cv.fit_transform(movies['genre'])\n",
    "star_vectorized = cv.fit_transform(movies['stars'])"
   ]
  },
  {
   "cell_type": "code",
   "execution_count": 30,
   "id": "7863f2dd",
   "metadata": {},
   "outputs": [],
   "source": [
    "# Combine the vectorized features with the scaled features\n",
    "combined_features = hstack([genre_vectorized, star_vectorized,\n",
    "                            movies['duration_scaled'].values.reshape(-1, 1),\n",
    "                            movies['rating_scaled'].values.reshape(-1, 1),\n",
    "                            movies['votes_scaled'].values.reshape(-1, 1)])"
   ]
  },
  {
   "cell_type": "code",
   "execution_count": 31,
   "id": "08d61e6b",
   "metadata": {},
   "outputs": [
    {
     "data": {
      "text/plain": [
       "<4198x5031 sparse matrix of type '<class 'numpy.float64'>'\n",
       "\twith 34833 stored elements in COOrdinate format>"
      ]
     },
     "execution_count": 31,
     "metadata": {},
     "output_type": "execute_result"
    }
   ],
   "source": [
    "combined_features"
   ]
  },
  {
   "cell_type": "code",
   "execution_count": 32,
   "id": "ac4c9491",
   "metadata": {},
   "outputs": [],
   "source": [
    "similarity_matrix = cosine_similarity(combined_features)"
   ]
  },
  {
   "cell_type": "code",
   "execution_count": 33,
   "id": "cbed84c7",
   "metadata": {},
   "outputs": [],
   "source": [
    "def get_top_recommendations(movie_title, top_n=5):\n",
    "    movie_index = movies[movies['title'] == movie_title].index[0]\n",
    "    similar_movies_indices = similarity_matrix[movie_index].argsort()[::-1][1:top_n+1]\n",
    "    similar_movies = movies.iloc[similar_movies_indices]['title']\n",
    "    return similar_movies"
   ]
  },
  {
   "cell_type": "code",
   "execution_count": 34,
   "id": "aed33eeb",
   "metadata": {},
   "outputs": [
    {
     "name": "stdout",
     "output_type": "stream",
     "text": [
      "1414                        Deutschland 86\n",
      "3600                             Bronx SIU\n",
      "2284    Aftershock: Earthquake in New York\n",
      "126                       SAS Rogue Heroes\n",
      "53                               Jack Ryan\n",
      "Name: title, dtype: object\n"
     ]
    }
   ],
   "source": [
    "top_recommendations = get_top_recommendations('Barry', top_n=5)\n",
    "print(top_recommendations)"
   ]
  },
  {
   "cell_type": "code",
   "execution_count": 38,
   "id": "bc91a6cd",
   "metadata": {},
   "outputs": [
    {
     "name": "stdout",
     "output_type": "stream",
     "text": [
      "Enter a movie title to search: jack ryan\n",
      "Top recommendations:\n",
      "3256       Star Wars: Underworld\n",
      "3461    Tomica Hero Rescue Force\n",
      "2153            Kamen raidâ Kûga\n",
      "2758          Kamen raidâ Kabuto\n",
      "369         Legend of the Seeker\n",
      "Name: title, dtype: object\n"
     ]
    }
   ],
   "source": [
    "# Function to search for movies\n",
    "def search_movies(query):\n",
    "    search_results = movies[movies['title'].str.contains(query, case=False)]\n",
    "    return search_results\n",
    "\n",
    "# Example usage\n",
    "search_query = input(\"Enter a movie title to search: \")\n",
    "search_results = search_movies(search_query)\n",
    "if not search_results.empty:\n",
    "    top_recommendations = get_top_recommendations(search_results.iloc[0]['title'], top_n=5)\n",
    "    print(\"Top recommendations:\")\n",
    "    print(top_recommendations)\n",
    "else:\n",
    "    print(\"No movies found matching the search query.\")"
   ]
  },
  {
   "cell_type": "code",
   "execution_count": null,
   "id": "31dcdb74",
   "metadata": {},
   "outputs": [],
   "source": []
  }
 ],
 "metadata": {
  "kernelspec": {
   "display_name": "Python 3 (ipykernel)",
   "language": "python",
   "name": "python3"
  },
  "language_info": {
   "codemirror_mode": {
    "name": "ipython",
    "version": 3
   },
   "file_extension": ".py",
   "mimetype": "text/x-python",
   "name": "python",
   "nbconvert_exporter": "python",
   "pygments_lexer": "ipython3",
   "version": "3.10.11"
  }
 },
 "nbformat": 4,
 "nbformat_minor": 5
}
