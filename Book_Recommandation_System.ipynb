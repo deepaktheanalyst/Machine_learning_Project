{
 "cells": [
  {
   "cell_type": "markdown",
   "id": "e6c69392-d28c-4e15-8c9c-e389dce828ec",
   "metadata": {},
   "source": [
    "## Importing necessary library"
   ]
  },
  {
   "cell_type": "code",
   "execution_count": null,
   "id": "3ed3830c-e491-481e-bc74-76b613f0a6a0",
   "metadata": {},
   "outputs": [],
   "source": [
    "import requests\n",
    "from bs4 import BeautifulSoup\n",
    "import pandas as pd\n",
    "import numpy as np\n",
    "import matplotlib.pyplot as plt\n",
    "import seaborn as sns"
   ]
  },
  {
   "cell_type": "markdown",
   "id": "f84cb0bc-e52f-40c9-a930-a7c58575e36b",
   "metadata": {},
   "source": [
    "## Web scraping book pages"
   ]
  },
  {
   "cell_type": "code",
   "execution_count": null,
   "id": "e526cf7b-8736-4dd0-9ab2-1b3dd59ab5f4",
   "metadata": {},
   "outputs": [],
   "source": [
    "from concurrent.futures import ThreadPoolExecutor\n",
    "import httplib2\n",
    "\n",
    "def scrape_page_and_get_links(url):\n",
    "    http = httplib2.Http()\n",
    "    response, content = http.request(url)\n",
    "    page = content.decode('utf-8')\n",
    "\n",
    "    data = BeautifulSoup(page, 'html.parser')\n",
    "    book_link_tags = data.find_all('a', attrs={'class': 'bookTitle'})\n",
    "    book_links = ['https://www.goodreads.com/' + link['href'] for link in book_link_tags]\n",
    "    return book_links\n",
    "\n",
    "if __name__ == '__main__':\n",
    "    all_pages = []\n",
    "    for serial in range(1, 100, 1):\n",
    "        page = f\"https://www.goodreads.com/list/show/19106.MUST_READS_?page={serial}\"\n",
    "        all_pages.append(page)\n",
    "\n",
    "    # Use multithreading with ThreadPoolExecutor\n",
    "    num_threads = 10  # we can adjust the number of threads as needed\n",
    "    with ThreadPoolExecutor(max_workers=num_threads) as executor:\n",
    "        results = list(executor.map(scrape_page_and_get_links, all_pages))\n",
    "\n",
    "    # Flatten the results into a single list of book links\n",
    "    book_links = [link for sublist in results for link in sublist]"
   ]
  },
  {
   "cell_type": "markdown",
   "id": "0a5648fb-1d20-404d-8c97-5c1fbb7ba055",
   "metadata": {},
   "source": [
    "## web scraping book details from every book page"
   ]
  },
  {
   "cell_type": "code",
   "execution_count": null,
   "id": "9b1e40a4-4f30-4ad9-aba5-0e6d6bf49e54",
   "metadata": {},
   "outputs": [],
   "source": [
    "from concurrent.futures import ThreadPoolExecutor\n",
    "import time\n",
    "\n",
    "def scrape_book_details(link):\n",
    "    try:\n",
    "        response = requests.get(link)\n",
    "        response.raise_for_status()  # Raise an exception if the response status code is not 200\n",
    "\n",
    "        book_data = BeautifulSoup(response.text, 'html.parser')\n",
    "\n",
    "        title = book_data.find('h1', attrs={'class': 'Text Text__title1'})\n",
    "        author = book_data.find('span', attrs={'class': 'ContributorLink__name'})\n",
    "        rating = book_data.find('div', attrs={'class': 'RatingStatistics__rating'})\n",
    "        no_of_ratings = book_data.find('div', attrs={'class': 'RatingStatistics__meta'})\n",
    "        description = book_data.find('div', attrs={'class': 'DetailsLayoutRightParagraph__widthConstrained'})\n",
    "        genres = book_data.find_all('span', attrs={'class': 'BookPageMetadataSection__genreButton'})\n",
    "\n",
    "        # Extract the text from each element (if found) or set as None if not found\n",
    "        title_text = title.text.strip() if title else None\n",
    "        author_text = author.text.strip() if author else None\n",
    "        rating_text = rating.text.strip() if rating else None\n",
    "        no_of_ratings_text = no_of_ratings.text.strip() if no_of_ratings else None\n",
    "        description_text = description.text.strip() if description else None\n",
    "        genres_list = [genre.text.strip() for genre in genres] if genres else []\n",
    "\n",
    "        # Create a dictionary for the current book\n",
    "        book_dict = {\n",
    "            'Title': title_text,\n",
    "            'Author': author_text,\n",
    "            'Rating': rating_text,\n",
    "            'Number of Ratings': no_of_ratings_text,\n",
    "            'Description': description_text,\n",
    "            'Genres': genres_list\n",
    "        }\n",
    "\n",
    "        return book_dict\n",
    "    except requests.exceptions.RequestException as e:\n",
    "        print(f\"Error while scraping {link}: {e}\")\n",
    "        return None\n",
    "\n",
    "if __name__ == '__main__':\n",
    "    # list of book links\n",
    "    your_book_links = book_links\n",
    "\n",
    "    # Use multithreading to scrape book details for each link\n",
    "    num_threads = 300  # Adjust this number based on server capacity and system capabilities\n",
    "\n",
    "    # Introduce a delay of 2 seconds between each request\n",
    "    time_delay = 2\n",
    "\n",
    "    with ThreadPoolExecutor(max_workers=num_threads) as executor:\n",
    "        book_details = list(executor.map(scrape_book_details, your_book_links))\n",
    "        time.sleep(time_delay)  # Add a delay between requests to be considerate to the server"
   ]
  },
  {
   "cell_type": "code",
   "execution_count": null,
   "id": "d95c7f1b-b59b-4f76-a208-b35a69ad4231",
   "metadata": {},
   "outputs": [],
   "source": [
    "# Filter out the None values from book_details\n",
    "book_details = [book for book in book_details if book is not None]\n",
    "\n",
    "# Create the DataFrame\n",
    "book_details = pd.DataFrame(book_details)"
   ]
  },
  {
   "cell_type": "code",
   "execution_count": null,
   "id": "efd82e45-827d-481f-8ffa-e8e7faaab98f",
   "metadata": {},
   "outputs": [],
   "source": [
    "# Dropping nan values from the dataset\n",
    "book_details = book_details.dropna(how='any')"
   ]
  },
  {
   "cell_type": "code",
   "execution_count": null,
   "id": "813cc2d3-5d19-4d20-91e1-6c73299ba5a6",
   "metadata": {},
   "outputs": [],
   "source": [
    "# Dropping duplicates from as per title\n",
    "book_details = book_details.drop_duplicates(subset='Title')"
   ]
  },
  {
   "cell_type": "code",
   "execution_count": null,
   "id": "b65f1a8a-6ab9-4505-9d51-ab1a61829013",
   "metadata": {},
   "outputs": [],
   "source": [
    "# saving data as csv file \n",
    "book_details.to_csv('book_details.csv',index=False)"
   ]
  },
  {
   "cell_type": "code",
   "execution_count": 52,
   "id": "ca0b1f3d-a0c8-451b-a15c-c4778fe9e2af",
   "metadata": {},
   "outputs": [],
   "source": [
    "# Reading data from the csv file\n",
    "book_details = pd.read_csv('book_details.csv',encoding= 'unicode_escape')"
   ]
  },
  {
   "cell_type": "code",
   "execution_count": 53,
   "id": "30f02522-c20b-4841-aca0-eeef1e9fd9d2",
   "metadata": {},
   "outputs": [
    {
     "data": {
      "text/html": [
       "<div>\n",
       "<style scoped>\n",
       "    .dataframe tbody tr th:only-of-type {\n",
       "        vertical-align: middle;\n",
       "    }\n",
       "\n",
       "    .dataframe tbody tr th {\n",
       "        vertical-align: top;\n",
       "    }\n",
       "\n",
       "    .dataframe thead th {\n",
       "        text-align: right;\n",
       "    }\n",
       "</style>\n",
       "<table border=\"1\" class=\"dataframe\">\n",
       "  <thead>\n",
       "    <tr style=\"text-align: right;\">\n",
       "      <th></th>\n",
       "      <th>title</th>\n",
       "      <th>author</th>\n",
       "      <th>rating</th>\n",
       "      <th>no_of_ratings</th>\n",
       "      <th>no_of_reviews</th>\n",
       "      <th>description</th>\n",
       "      <th>genres</th>\n",
       "    </tr>\n",
       "  </thead>\n",
       "  <tbody>\n",
       "    <tr>\n",
       "      <th>0</th>\n",
       "      <td>Divergent</td>\n",
       "      <td>Veronica Roth</td>\n",
       "      <td>4.15</td>\n",
       "      <td>3765886</td>\n",
       "      <td>117,791</td>\n",
       "      <td>In Beatrice Prior's dystopian Chicago world, s...</td>\n",
       "      <td>Young Adult, Dystopia, Fantasy, Fiction, Scien...</td>\n",
       "    </tr>\n",
       "    <tr>\n",
       "      <th>1</th>\n",
       "      <td>Catching Fire</td>\n",
       "      <td>Suzanne Collins</td>\n",
       "      <td>4.31</td>\n",
       "      <td>3305054</td>\n",
       "      <td>113,480</td>\n",
       "      <td>Sparks are igniting.Flames are spreading.And t...</td>\n",
       "      <td>Young Adult, Dystopia, Fiction, Fantasy, Scien...</td>\n",
       "    </tr>\n",
       "  </tbody>\n",
       "</table>\n",
       "</div>"
      ],
      "text/plain": [
       "           title           author  rating  no_of_ratings no_of_reviews  \\\n",
       "0      Divergent    Veronica Roth    4.15        3765886       117,791   \n",
       "1  Catching Fire  Suzanne Collins    4.31        3305054       113,480   \n",
       "\n",
       "                                         description  \\\n",
       "0  In Beatrice Prior's dystopian Chicago world, s...   \n",
       "1  Sparks are igniting.Flames are spreading.And t...   \n",
       "\n",
       "                                              genres  \n",
       "0  Young Adult, Dystopia, Fantasy, Fiction, Scien...  \n",
       "1  Young Adult, Dystopia, Fiction, Fantasy, Scien...  "
      ]
     },
     "execution_count": 53,
     "metadata": {},
     "output_type": "execute_result"
    }
   ],
   "source": [
    "book_details.head(2)"
   ]
  },
  {
   "cell_type": "code",
   "execution_count": 54,
   "id": "fba52dba-ad4d-44b8-977a-9a9c543a5306",
   "metadata": {},
   "outputs": [
    {
     "name": "stdout",
     "output_type": "stream",
     "text": [
      "<class 'pandas.core.frame.DataFrame'>\n",
      "RangeIndex: 13324 entries, 0 to 13323\n",
      "Data columns (total 7 columns):\n",
      " #   Column         Non-Null Count  Dtype  \n",
      "---  ------         --------------  -----  \n",
      " 0   title          13324 non-null  object \n",
      " 1   author         13324 non-null  object \n",
      " 2   rating         13324 non-null  float64\n",
      " 3   no_of_ratings  13324 non-null  int64  \n",
      " 4   no_of_reviews  13324 non-null  object \n",
      " 5   description    13273 non-null  object \n",
      " 6   genres         12327 non-null  object \n",
      "dtypes: float64(1), int64(1), object(5)\n",
      "memory usage: 728.8+ KB\n"
     ]
    }
   ],
   "source": [
    "# Checking dataset information\n",
    "book_details.info()"
   ]
  },
  {
   "cell_type": "code",
   "execution_count": 55,
   "id": "63f5fd70-1cca-4850-a9c3-b45eee349c89",
   "metadata": {},
   "outputs": [
    {
     "data": {
      "text/plain": [
       "title              0\n",
       "author             0\n",
       "rating             0\n",
       "no_of_ratings      0\n",
       "no_of_reviews      0\n",
       "description       51\n",
       "genres           997\n",
       "dtype: int64"
      ]
     },
     "execution_count": 55,
     "metadata": {},
     "output_type": "execute_result"
    }
   ],
   "source": [
    "book_details.isnull().sum()"
   ]
  },
  {
   "cell_type": "code",
   "execution_count": 56,
   "id": "e829e21d-a0c3-4b2b-81a3-d3b204cdbc87",
   "metadata": {},
   "outputs": [],
   "source": [
    "# Drop null values as we find some null values \n",
    "book_details = book_details.dropna(how='any')"
   ]
  },
  {
   "cell_type": "code",
   "execution_count": 58,
   "id": "67ca112e-edc7-479b-94ab-07b8477f112f",
   "metadata": {},
   "outputs": [],
   "source": [
    "# Change column type from object to int\n",
    "book_details['no_of_ratings'] = book_details['no_of_ratings'].astype('int')"
   ]
  },
  {
   "cell_type": "code",
   "execution_count": 59,
   "id": "a88fc8ab-85af-4611-be20-accca949f099",
   "metadata": {},
   "outputs": [],
   "source": [
    "# Replacing unncessary characters from the column\n",
    "book_details['no_of_reviews'] = book_details['no_of_reviews'].str.replace(',', '').str.replace('\\xa0', '').astype(int)"
   ]
  },
  {
   "cell_type": "code",
   "execution_count": 60,
   "id": "25fbce47-c256-4c0e-9885-d4616d848ca5",
   "metadata": {},
   "outputs": [],
   "source": [
    "book_details['no_of_reviews'] = book_details['no_of_reviews'].astype('int')"
   ]
  },
  {
   "cell_type": "code",
   "execution_count": 61,
   "id": "d2e833c0-bac5-4a6b-824d-e04bf3131ac0",
   "metadata": {},
   "outputs": [
    {
     "name": "stdout",
     "output_type": "stream",
     "text": [
      "<class 'pandas.core.frame.DataFrame'>\n",
      "Index: 12300 entries, 0 to 13322\n",
      "Data columns (total 7 columns):\n",
      " #   Column         Non-Null Count  Dtype  \n",
      "---  ------         --------------  -----  \n",
      " 0   title          12300 non-null  object \n",
      " 1   author         12300 non-null  object \n",
      " 2   rating         12300 non-null  float64\n",
      " 3   no_of_ratings  12300 non-null  int32  \n",
      " 4   no_of_reviews  12300 non-null  int32  \n",
      " 5   description    12300 non-null  object \n",
      " 6   genres         12300 non-null  object \n",
      "dtypes: float64(1), int32(2), object(4)\n",
      "memory usage: 672.7+ KB\n"
     ]
    }
   ],
   "source": [
    "book_details.info()"
   ]
  },
  {
   "cell_type": "code",
   "execution_count": 62,
   "id": "871b8a0b-abe8-490d-99a0-bc79b446946d",
   "metadata": {},
   "outputs": [
    {
     "data": {
      "text/plain": [
       "(12300, 7)"
      ]
     },
     "execution_count": 62,
     "metadata": {},
     "output_type": "execute_result"
    }
   ],
   "source": [
    "# Checking dataset shape\n",
    "book_details.shape"
   ]
  },
  {
   "cell_type": "markdown",
   "id": "5fd4808e-7cef-4b99-91ad-cd34b4aea37e",
   "metadata": {},
   "source": [
    "## Importing necessary library for the books recommendation engine"
   ]
  },
  {
   "cell_type": "code",
   "execution_count": 63,
   "id": "6e180733-d8a2-4d40-acb5-2e1ba2de9174",
   "metadata": {},
   "outputs": [],
   "source": [
    "from sklearn.feature_extraction.text import CountVectorizer\n",
    "from sklearn.metrics.pairwise import cosine_similarity\n",
    "import pandas as pd\n",
    "from sklearn.preprocessing import MinMaxScaler\n",
    "from scipy.sparse import hstack"
   ]
  },
  {
   "cell_type": "code",
   "execution_count": 64,
   "id": "21ece5e9-2c6f-406f-a049-9f3f6d828660",
   "metadata": {},
   "outputs": [
    {
     "data": {
      "text/plain": [
       "Index(['title', 'author', 'rating', 'no_of_ratings', 'no_of_reviews',\n",
       "       'description', 'genres'],\n",
       "      dtype='object')"
      ]
     },
     "execution_count": 64,
     "metadata": {},
     "output_type": "execute_result"
    }
   ],
   "source": [
    "book_details.columns"
   ]
  },
  {
   "cell_type": "markdown",
   "id": "a52f3ee4-c9a0-40e4-9f62-d21539161583",
   "metadata": {},
   "source": [
    "## Data Preprocessing of numerical columns"
   ]
  },
  {
   "cell_type": "code",
   "execution_count": 65,
   "id": "1a1a9507-0f70-4a54-80c3-84c6e9902018",
   "metadata": {},
   "outputs": [],
   "source": [
    "scaler = MinMaxScaler()\n",
    "book_details['rating_scaled'] = scaler.fit_transform(book_details['rating'].values.reshape(-1, 1))\n",
    "book_details['no_of_ratings_scaled'] = scaler.fit_transform(book_details['no_of_ratings'].values.reshape(-1, 1))\n",
    "book_details['no_of_reviews_scaled'] = scaler.fit_transform(book_details['no_of_reviews'].values.reshape(-1, 1))"
   ]
  },
  {
   "cell_type": "markdown",
   "id": "725ca2a9-07a5-4ddb-acff-2cf263ba51bc",
   "metadata": {},
   "source": [
    "## Vectorize the author,description and genres columns"
   ]
  },
  {
   "cell_type": "code",
   "execution_count": 66,
   "id": "55045166-6e36-421b-91cf-4242dc0fe793",
   "metadata": {},
   "outputs": [],
   "source": [
    "cv = CountVectorizer(max_features=10000, stop_words='english', binary=True)\n",
    "author_vectorized = cv.fit_transform(book_details['author'])\n",
    "description_vectorized = cv.fit_transform(book_details['description'])\n",
    "genres_vectorized = cv.fit_transform(book_details['genres'])"
   ]
  },
  {
   "cell_type": "markdown",
   "id": "54a18f47-e073-4eee-a9c7-3641497b8a12",
   "metadata": {},
   "source": [
    "## Combine the vectorized features with the scaled features"
   ]
  },
  {
   "cell_type": "code",
   "execution_count": 67,
   "id": "e9d96a65-8592-4420-be45-08cbcb9cd1a7",
   "metadata": {},
   "outputs": [],
   "source": [
    "combined_features = hstack([author_vectorized, description_vectorized,\n",
    "                            genres_vectorized,\n",
    "                            book_details['rating_scaled'].values.reshape(-1, 1),\n",
    "                            book_details['no_of_ratings_scaled'].values.reshape(-1, 1),\n",
    "                            book_details['no_of_reviews_scaled'].values.reshape(-1, 1)])"
   ]
  },
  {
   "cell_type": "code",
   "execution_count": 68,
   "id": "1ed8fb16-dff9-482f-9905-571873637763",
   "metadata": {},
   "outputs": [
    {
     "data": {
      "text/plain": [
       "<12300x17830 sparse matrix of type '<class 'numpy.float64'>'\n",
       "\twith 911596 stored elements in COOrdinate format>"
      ]
     },
     "execution_count": 68,
     "metadata": {},
     "output_type": "execute_result"
    }
   ],
   "source": [
    "combined_features"
   ]
  },
  {
   "cell_type": "markdown",
   "id": "0e18d704-e5f1-49a6-9222-f494301b4d89",
   "metadata": {},
   "source": [
    "## Applying similiarity Matrix to get the pattern"
   ]
  },
  {
   "cell_type": "code",
   "execution_count": 69,
   "id": "7620a266-1791-4c15-b5a3-2fd67efd08a2",
   "metadata": {},
   "outputs": [],
   "source": [
    "similarity_matrix = cosine_similarity(combined_features)"
   ]
  },
  {
   "cell_type": "code",
   "execution_count": 70,
   "id": "e9d0a61a-46c8-481f-abbd-c024623b03b8",
   "metadata": {},
   "outputs": [],
   "source": [
    "def get_top_recommendations(book_title, top_n=5):\n",
    "    book_index = book_details[book_details['title'] == book_title].index[0]\n",
    "    similar_books_indices = similarity_matrix[book_index].argsort()[::-1][1:top_n+1]\n",
    "    similar_books = book_details.iloc[similar_books_indices]['title']\n",
    "    return similar_books"
   ]
  },
  {
   "cell_type": "markdown",
   "id": "5df59ee3-a965-4307-85c8-98bcee5a50f0",
   "metadata": {},
   "source": [
    "## Interface for checking the recommendation engine"
   ]
  },
  {
   "cell_type": "code",
   "execution_count": 71,
   "id": "4f1595d6-a4f4-481a-9b0c-6a4584c35ade",
   "metadata": {},
   "outputs": [
    {
     "name": "stdout",
     "output_type": "stream",
     "text": [
      "\n",
      "BOOK RECOMMENDATION SYSTEM\n",
      "1. Input a book title\n",
      "2. Exit\n"
     ]
    },
    {
     "name": "stdin",
     "output_type": "stream",
     "text": [
      "Enter your choice (1/2):  1\n",
      "Enter the book title:  Catching Fire\n"
     ]
    },
    {
     "name": "stdout",
     "output_type": "stream",
     "text": [
      "\n",
      "Top Recommended Books:\n",
      "1. The Hunger Games Trilogy Boxset\n",
      "2. The Hunger Games\n",
      "3. Hungerspelen\n",
      "4. The Soul\n",
      "5. Mockingjay\n",
      "\n",
      "BOOK RECOMMENDATION SYSTEM\n",
      "1. Input a book title\n",
      "2. Exit\n"
     ]
    },
    {
     "name": "stdin",
     "output_type": "stream",
     "text": [
      "Enter your choice (1/2):  2\n"
     ]
    },
    {
     "name": "stdout",
     "output_type": "stream",
     "text": [
      "Exiting the program.\n"
     ]
    }
   ],
   "source": [
    "def get_top_recommendations(book_title, top_n=5):\n",
    "    # This function should return a list of recommended books based on the selected book.\n",
    "\n",
    "    # Find the index of the book in the DataFrame\n",
    "    book_index = book_details[book_details['title'] == book_title].index[0]\n",
    "\n",
    "    # Retrieve the similarity scores of the selected book with all other books\n",
    "    similar_books_indices = similarity_matrix[book_index].argsort()[::-1][1:top_n+1]\n",
    "\n",
    "    # Retrieve the titles of the recommended books using the indices\n",
    "    recommended_books = book_details.iloc[similar_books_indices]['title'].tolist()\n",
    "\n",
    "    return recommended_books\n",
    "\n",
    "def main():\n",
    "    while True:\n",
    "        print(\"\\nBOOK RECOMMENDATION SYSTEM\")\n",
    "        print(\"1. Input a book title\")\n",
    "        print(\"2. Exit\")\n",
    "        choice = input(\"Enter your choice (1/2): \")\n",
    "\n",
    "        if choice == \"1\":\n",
    "            book_title = input(\"Enter the book title: \")\n",
    "            if book_title in final_df['title'].tolist():\n",
    "                top_recommendations = get_top_recommendations(book_title, top_n=5)\n",
    "                print(\"\\nTop Recommended Books:\")\n",
    "                for idx, book in enumerate(top_recommendations, 1):\n",
    "                    print(f\"{idx}. {book}\")\n",
    "            else:\n",
    "                print(\"Book not found in the database.\")\n",
    "        elif choice == \"2\":\n",
    "            print(\"Exiting the program.\")\n",
    "            break\n",
    "        else:\n",
    "            print(\"Invalid choice. Please try again.\")\n",
    "\n",
    "\n",
    "if __name__ == \"__main__\":\n",
    "    main()"
   ]
  },
  {
   "cell_type": "code",
   "execution_count": null,
   "id": "e0413105-4c28-4a28-a030-cba3c98acf43",
   "metadata": {},
   "outputs": [],
   "source": []
  }
 ],
 "metadata": {
  "kernelspec": {
   "display_name": "Python 3 (ipykernel)",
   "language": "python",
   "name": "python3"
  },
  "language_info": {
   "codemirror_mode": {
    "name": "ipython",
    "version": 3
   },
   "file_extension": ".py",
   "mimetype": "text/x-python",
   "name": "python",
   "nbconvert_exporter": "python",
   "pygments_lexer": "ipython3",
   "version": "3.11.4"
  }
 },
 "nbformat": 4,
 "nbformat_minor": 5
}
